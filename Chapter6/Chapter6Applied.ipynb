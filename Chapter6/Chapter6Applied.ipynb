{
 "cells": [
  {
   "cell_type": "code",
   "execution_count": 261,
   "metadata": {},
   "outputs": [],
   "source": [
    "#import the required libraries\n",
    "import numpy as np\n",
    "import pandas as pd\n",
    "import matplotlib.pyplot as plt\n",
    "import seaborn as sns\n",
    "import statsmodels.formula.api as smf\n",
    "import patsy\n",
    "import itertools\n",
    "from sklearn import linear_model\n",
    "from sklearn.model_selection import KFold\n",
    "from sklearn.preprocessing import scale\n",
    "from sklearn.decomposition import PCA\n",
    "from sklearn.model_selection import cross_val_score\n",
    "from sklearn.linear_model import LinearRegression\n",
    "from sklearn.cross_decomposition import PLSRegression"
   ]
  },
  {
   "cell_type": "markdown",
   "metadata": {},
   "source": [
    "# Question 8"
   ]
  },
  {
   "cell_type": "code",
   "execution_count": 38,
   "metadata": {},
   "outputs": [],
   "source": [
    "# part a\n",
    "np.random.seed(1)\n",
    "x = np.random.normal(0, 1, 100)\n",
    "#generating a noise vector as well\n",
    "eps = np.random.normal(0,1,100)\n",
    "#print(x)\n",
    "#print(eps)"
   ]
  },
  {
   "cell_type": "code",
   "execution_count": 48,
   "metadata": {},
   "outputs": [],
   "source": [
    "# part b\n",
    "y = 2 + 2 * x + 3 * (x ** 2) + 2.5 * (x ** 3) + eps"
   ]
  },
  {
   "cell_type": "code",
   "execution_count": 40,
   "metadata": {},
   "outputs": [
    {
     "data": {
      "text/plain": [
       "<matplotlib.axes._subplots.AxesSubplot at 0x1c2504a7b8>"
      ]
     },
     "execution_count": 40,
     "metadata": {},
     "output_type": "execute_result"
    },
    {
     "data": {
      "image/png": "[encoded data removed]",
      "text/plain": [
       "<Figure size 432x288 with 1 Axes>"
      ]
     },
     "metadata": {
      "needs_background": "light"
     },
     "output_type": "display_data"
    }
   ],
   "source": [
    "#let us now have a look at the plot\n",
    "sns.scatterplot(x,y)"
   ]
  },
  {
   "cell_type": "code",
   "execution_count": 70,
   "metadata": {},
   "outputs": [],
   "source": [
    "# it is now time to perform best-set sub selection\n",
    "def bestSubsetSelection(k, z, y):\n",
    "    # lets get a look at all the possible combinations\n",
    "    print(type(z))\n",
    "    x_combo = itertools.combinations(list(z.columns), k)\n",
    "    \n",
    "    #let us store the rss in an array\n",
    "    models = []\n",
    "    for combo in x_combo:\n",
    "        x_smf = \"+\".join(combo)\n",
    "        formula = \"{} ~ {}\".format(y.columns[0], x_smf)\n",
    "        model = smf.ols(formula = formula, data = pd.concat([z,y], axis = 1)).fit()\n",
    "        models.append((formula, model))\n",
    "    return models\n",
    "\n",
    "def min_rss(statsmodels):\n",
    "    return sorted(statsmodels, key = lambda tup: tup[1].ssr)[0]\n",
    "\n",
    "def max_adjr2(statsmodels):\n",
    "    return sorted(statsmodels, reverse = True, key = lambda tup: tup[1].rsquared_adj)[0]\n",
    "\n",
    "def min_bic(statsmodels):\n",
    "    return sorted(statsmodels, reverse = False, key = lambda tup: tup[1].bic)[0]\n",
    "\n",
    "def min_aic(statsmodels):\n",
    "    return sorted(statsmodels, reverse = False, key = lambda tup: tup[1].aic)[0]"
   ]
  },
  {
   "cell_type": "code",
   "execution_count": 58,
   "metadata": {},
   "outputs": [
    {
     "name": "stdout",
     "output_type": "stream",
     "text": [
      "<class 'pandas.core.frame.DataFrame'>\n",
      "1  done\n",
      "<class 'pandas.core.frame.DataFrame'>\n",
      "2  done\n",
      "<class 'pandas.core.frame.DataFrame'>\n",
      "3  done\n",
      "<class 'pandas.core.frame.DataFrame'>\n",
      "4  done\n",
      "<class 'pandas.core.frame.DataFrame'>\n",
      "5  done\n",
      "<class 'pandas.core.frame.DataFrame'>\n",
      "6  done\n",
      "<class 'pandas.core.frame.DataFrame'>\n",
      "7  done\n",
      "<class 'pandas.core.frame.DataFrame'>\n",
      "8  done\n",
      "<class 'pandas.core.frame.DataFrame'>\n",
      "9  done\n",
      "<class 'pandas.core.frame.DataFrame'>\n",
      "10  done\n"
     ]
    }
   ],
   "source": [
    "# let us now create the data-frame\n",
    "xt = pd.DataFrame({\n",
    "    \"X\" : x,\n",
    "    \"X2\": x ** 2,\n",
    "    \"X3\": x ** 3,\n",
    "    \"X4\": x ** 4,\n",
    "    \"X5\": x ** 5,\n",
    "    \"X6\": x ** 6,\n",
    "    \"X7\": x ** 7,\n",
    "    \"X8\": x ** 8,\n",
    "    \"X9\": x ** 9,\n",
    "    \"X10\": x ** 10})\n",
    "\n",
    "yt = pd.DataFrame({\"y\" : y})\n",
    "models = []\n",
    "for k in range(len(xt.columns)):\n",
    "    k = k + 1\n",
    "    subset = bestSubsetSelection(k, xt, yt)\n",
    "    models.append(subset)\n",
    "    print(k, \" done\")"
   ]
  },
  {
   "cell_type": "code",
   "execution_count": 71,
   "metadata": {},
   "outputs": [
    {
     "data": {
      "image/png": "[encoded data removed]",
      "text/plain": [
       "<Figure size 432x288 with 1 Axes>"
      ]
     },
     "metadata": {
      "needs_background": "light"
     },
     "output_type": "display_data"
    },
    {
     "name": "stdout",
     "output_type": "stream",
     "text": [
      " Model Selected: \n",
      "  Intercept    2.298519\n",
      "X            2.659149\n",
      "X2           2.617578\n",
      "X5           2.279830\n",
      "X7          -0.684882\n",
      "X9           0.065720\n",
      "X10          0.001195\n",
      "dtype: float64 0.9894773214922351\n"
     ]
    },
    {
     "data": {
      "image/png": "[encoded data removed]",
      "text/plain": [
       "<Figure size 432x288 with 1 Axes>"
      ]
     },
     "metadata": {
      "needs_background": "light"
     },
     "output_type": "display_data"
    },
    {
     "name": "stdout",
     "output_type": "stream",
     "text": [
      " Model Selected: \n",
      " Intercept    2.276949\n",
      "X            1.910076\n",
      "X2           2.657467\n",
      "X3           2.605378\n",
      "X6           0.020949\n",
      "dtype: float64 284.249197722063\n"
     ]
    },
    {
     "data": {
      "image/png": "[encoded data removed]",
      "text/plain": [
       "<Figure size 432x288 with 1 Axes>"
      ]
     },
     "metadata": {
      "needs_background": "light"
     },
     "output_type": "display_data"
    },
    {
     "name": "stdout",
     "output_type": "stream",
     "text": [
      " Model Selected: \n",
      "  Intercept    2.276949\n",
      "X            1.910076\n",
      "X2           2.657467\n",
      "X3           2.605378\n",
      "X6           0.020949\n",
      "dtype: float64 271.2233467921225\n"
     ]
    }
   ],
   "source": [
    "#time to see the results\n",
    "k = np.arange(1, len(xt.columns) + 1)\n",
    "\n",
    "\n",
    "#adjusted r squared\n",
    "adjr2 = [max_adjr2(m)[1].rsquared_adj for m in models]\n",
    "sns.lineplot(x = k, y = adjr2)\n",
    "plt.xlabel(\"k\")\n",
    "plt.ylabel(\"$R^2$\")\n",
    "plt.show()\n",
    "coefs_r2 = [(max_adjr2(m)[1].rsquared_adj, max_adjr2(m)[1].params) for m in models]\n",
    "print(\" Model Selected: \\n \", max(coefs_r2)[1], max(coefs_r2)[0])\n",
    "\n",
    "\n",
    "#BIC\n",
    "bic = [min_bic(m)[1].bic for m in models]\n",
    "sns.lineplot(x = k, y = bic)\n",
    "plt.xlabel(\"k\")\n",
    "plt.ylabel(\"BIC\")\n",
    "plt.show()\n",
    "coefs_bic = [(min_bic(m)[1].bic, min_bic(m)[1].params) for m in models]\n",
    "print(\" Model Selected: \\n\", min(coefs_bic)[1], min(coefs_bic)[0])\n",
    "\n",
    "#AIC\n",
    "aic = [min_aic(m)[1].aic for m in models]\n",
    "sns.lineplot(x = k, y = aic)\n",
    "plt.xlabel(\"k\")\n",
    "plt.ylabel(\"AIC\")\n",
    "plt.show()\n",
    "coefs_aic = [(min_aic(m)[1].aic, min_aic(m)[1].params) for m in models]\n",
    "print(\" Model Selected: \\n \", min(coefs_aic)[1], min(coefs_aic)[0])"
   ]
  },
  {
   "cell_type": "code",
   "execution_count": 103,
   "metadata": {},
   "outputs": [],
   "source": [
    "# Now we will do the same thing for forward stepwise selection and backward stepwise selection\n",
    "def forwardStepwise(z, y, scorer = \"ssr\", results = [(0, [])]):\n",
    "    p_all = list(z.columns)\n",
    "    p_used = results[-1][1]\n",
    "    p_unused = [p for p in p_all if p not in p_used]\n",
    "    \n",
    "    #base case\n",
    "    if not p_unused:\n",
    "        scores = [r[0] for r in results]\n",
    "        predictors = [r[1] for r in results]\n",
    "        return pd.DataFrame({scorer: scores, \"predictors\" : predictors}).drop(0)\n",
    "    \n",
    "    # get the score for each additional predictor\n",
    "    res = []\n",
    "    for p in p_unused:\n",
    "        f = \"{} ~ {}\".format(y.columns[0], \" + \".join([p] + p_used))\n",
    "        model = smf.ols(formula = f, data = pd.concat([z,y], axis = 1)).fit()\n",
    "        res.append((model, [p] + p_used))\n",
    "    \n",
    "    # choose the predictor which produces the best results\n",
    "    if scorer == \"ssr\":\n",
    "        best_model = sorted(res, key = lambda tup: tup[0].ssr)[0]\n",
    "        best_score = (best_model[0].ssr, best_model[1])\n",
    "    elif scorer == \"rsquared_adj\":\n",
    "        best_model = sorted(res, reverse = True, key = lambda tup: tup[0].rsquared_adj)[0]\n",
    "        best_score = (best_model[0].rsquared_adj, best_model[1])\n",
    "    elif scorer == \"bic\":\n",
    "        best_model = sorted(res, key = lambda tup: tup[0].bic)[0]\n",
    "        best_score = (best_model[0].bic, best_model[1])\n",
    "    elif scorer == \"aic\":\n",
    "        best_model = sorted(res, key = lambda tup: tup[0].aic)[0]\n",
    "        best_score = (best_model[0].aic, best_model[1])\n",
    "    new_results = results + [best_score]\n",
    "    return forwardStepwise(z, y, scorer, new_results)\n"
   ]
  },
  {
   "cell_type": "code",
   "execution_count": 102,
   "metadata": {},
   "outputs": [],
   "source": [
    "def backwardStepwise(x, y, scorer = \"ssr\", results = []):\n",
    "    p_all = list(x.columns)\n",
    "    if not results:\n",
    "        f = \"{} ~ {}\".format(y.columns[0], \"+\".join(p_all))\n",
    "        model = smf.ols(formula = f, data = pd.concat([x,y], axis = 1)).fit()\n",
    "        if scorer == \"ssr\":\n",
    "            return backwardStepwise(x,y,scorer,[(model.ssr, p_all)])\n",
    "        elif scorer == \"rsquared_adj\":\n",
    "            return backwardStepwise(x,y,scorer,[(model.rsquared_adj, p_all)])\n",
    "        elif scorer == \"bic\":\n",
    "            return backwardStepwise(x,y,scorer,[(model.bic, p_all)])\n",
    "        elif scorer == \"aic\":\n",
    "            return backwardStepwise(x,y,scorer,[(model.aic, p_all)])\n",
    "    else:\n",
    "        p_used = results[-1][1]\n",
    "    if len(p_used) == 1:\n",
    "        scores = [r[0] for r in results]\n",
    "        preds =  [r[1] for r in results]\n",
    "        return pd.DataFrame({scorer: scores, \"predictors\": preds})\n",
    "    \n",
    "    res = []\n",
    "    for p in p_used:\n",
    "        p_test = [i for i in p_used if i != p]\n",
    "        f = \"{} ~ {}\".format(y.columns[0], \"+\".join(p_test))\n",
    "        model = smf.ols(formula = f, data = pd.concat([x,y], axis = 1)).fit()\n",
    "        res.append((model, p_test))\n",
    "    if scorer == \"ssr\":\n",
    "        best_model = sorted(res, key = lambda tup: tup[0].ssr)[0]\n",
    "        best_score = (best_model[0].ssr, best_model[1])\n",
    "    elif scorer == \"rsquared_adj\":\n",
    "        best_model = sorted(res, key = lambda tup: tup[0].rsquared_adj)[-1]\n",
    "        best_score = (best_model[0].rsquared_adj, best_model[1])\n",
    "    elif scorer == \"bic\":\n",
    "        best_model = sorted(res, key = lambda tup: tup[0].bic)[0]\n",
    "        best_score = (best_model[0].bic, best_model[1])\n",
    "    elif scorer == \"aic\":\n",
    "        best_model = sorted(res, key = lambda tup: tup[0].aic)[0]\n",
    "        best_score = (best_model[0].aic, best_model[1])\n",
    "    new_results = results + [best_score]\n",
    "    return backwardStepwise(x, y, scorer, new_results)"
   ]
  },
  {
   "cell_type": "code",
   "execution_count": 99,
   "metadata": {},
   "outputs": [],
   "source": [
    "def subsetAnalysis(df, scorer):\n",
    "    df[\"predictors_str\"] = df[\"predictors\"].astype(str)\n",
    "    ax = sns.lineplot(x = \"predictors_str\", y = scorer, data = df, sort = False)\n",
    "    plt.xticks(rotation = 90)\n",
    "    plt.show()\n",
    "    \n",
    "    if scorer == \"rsquared_adj\":\n",
    "        print(df[df[scorer] == df[scorer].max()].drop(\"predictors_str\", axis = 1))\n",
    "    else:\n",
    "        print(df[df[scorer] == df[scorer].min()].drop(\"predictors_str\", axis = 1))"
   ]
  },
  {
   "cell_type": "code",
   "execution_count": 104,
   "metadata": {},
   "outputs": [
    {
     "data": {
      "image/png": "[encoded data removed]",
      "text/plain": [
       "<Figure size 432x288 with 1 Axes>"
      ]
     },
     "metadata": {
      "needs_background": "light"
     },
     "output_type": "display_data"
    },
    {
     "name": "stdout",
     "output_type": "stream",
     "text": [
      "   rsquared_adj       predictors\n",
      "4      0.989408  [X6, X, X2, X3]\n"
     ]
    },
    {
     "data": {
      "image/png": "[encoded data removed]",
      "text/plain": [
       "<Figure size 432x288 with 1 Axes>"
      ]
     },
     "metadata": {
      "needs_background": "light"
     },
     "output_type": "display_data"
    },
    {
     "name": "stdout",
     "output_type": "stream",
     "text": [
      "          bic       predictors\n",
      "4  284.249198  [X6, X, X2, X3]\n"
     ]
    },
    {
     "data": {
      "image/png": "[encoded data removed]",
      "text/plain": [
       "<Figure size 432x288 with 1 Axes>"
      ]
     },
     "metadata": {
      "needs_background": "light"
     },
     "output_type": "display_data"
    },
    {
     "name": "stdout",
     "output_type": "stream",
     "text": [
      "          aic       predictors\n",
      "4  271.223347  [X6, X, X2, X3]\n"
     ]
    }
   ],
   "source": [
    "# rsquared\n",
    "scorer = \"rsquared_adj\"\n",
    "subsetAnalysis(forwardStepwise(xt,yt, scorer = scorer), scorer)\n",
    "# rsquared\n",
    "scorer = \"bic\"\n",
    "subsetAnalysis(forwardStepwise(xt,yt, scorer = scorer), scorer)\n",
    "# rsquared\n",
    "scorer = \"aic\"\n",
    "subsetAnalysis(forwardStepwise(xt,yt, scorer = scorer), scorer)"
   ]
  },
  {
   "cell_type": "code",
   "execution_count": 105,
   "metadata": {},
   "outputs": [
    {
     "data": {
      "image/png": "[encoded data removed]",
      "text/plain": [
       "<Figure size 432x288 with 1 Axes>"
      ]
     },
     "metadata": {
      "needs_background": "light"
     },
     "output_type": "display_data"
    },
    {
     "name": "stdout",
     "output_type": "stream",
     "text": [
      "   rsquared_adj                   predictors\n",
      "3      0.989431  [X, X2, X4, X5, X6, X7, X9]\n"
     ]
    },
    {
     "data": {
      "image/png": "[encoded data removed]",
      "text/plain": [
       "<Figure size 432x288 with 1 Axes>"
      ]
     },
     "metadata": {
      "needs_background": "light"
     },
     "output_type": "display_data"
    },
    {
     "name": "stdout",
     "output_type": "stream",
     "text": [
      "          bic               predictors\n",
      "4  291.450514  [X, X2, X5, X6, X7, X9]\n"
     ]
    },
    {
     "data": {
      "image/png": "[encoded data removed]",
      "text/plain": [
       "<Figure size 432x288 with 1 Axes>"
      ]
     },
     "metadata": {
      "needs_background": "light"
     },
     "output_type": "display_data"
    },
    {
     "name": "stdout",
     "output_type": "stream",
     "text": [
      "          aic               predictors\n",
      "4  273.214322  [X, X2, X5, X6, X7, X9]\n"
     ]
    }
   ],
   "source": [
    "# time for some backward selection\n",
    "#rsquared\n",
    "scorer = \"rsquared_adj\"\n",
    "subsetAnalysis(backwardStepwise(xt,yt, scorer = scorer), scorer)\n",
    "# rsquared\n",
    "scorer = \"bic\"\n",
    "subsetAnalysis(backwardStepwise(xt,yt, scorer = scorer), scorer)\n",
    "# rsquared\n",
    "scorer = \"aic\"\n",
    "subsetAnalysis(backwardStepwise(xt,yt, scorer = scorer), scorer)"
   ]
  },
  {
   "cell_type": "code",
   "execution_count": 106,
   "metadata": {},
   "outputs": [],
   "source": [
    "# part e\n",
    "# time to implement the lasso function\n",
    "def mse(y_hat, y):\n",
    "    return np.sum(np.square(y_hat - y)) / y.size\n",
    "\n",
    "def lasso_cv(x, y, l, k):\n",
    "    x_folds = np.array_split(x, k)\n",
    "    y_folds = np.array_split(y, k)\n",
    "    MSE = []\n",
    "    for f in np.arange(len(x_folds)):\n",
    "        x_test = x_folds[f]\n",
    "        y_test = y_folds[f]\n",
    "        x_train = x.drop(x_folds[f].index)\n",
    "        y_train = y.drop(y_folds[f].index)\n",
    "        \n",
    "        #time to fit the model\n",
    "        model = linear_model.Lasso(alpha = l, fit_intercept = True, normalize = False,\n",
    "                                   max_iter = 1000000).fit(x_train, y_train)\n",
    "        y_hat = model.predict(x_test)\n",
    "        MSE.append(mse(y_hat, y_test['y']))\n",
    "    return MSE"
   ]
  },
  {
   "cell_type": "code",
   "execution_count": 110,
   "metadata": {},
   "outputs": [
    {
     "data": {
      "text/plain": [
       "<matplotlib.axes._subplots.AxesSubplot at 0x1c27d60550>"
      ]
     },
     "execution_count": 110,
     "metadata": {},
     "output_type": "execute_result"
    },
    {
     "data": {
      "image/png": "[encoded data removed]",
      "text/plain": [
       "<Figure size 432x288 with 1 Axes>"
      ]
     },
     "metadata": {
      "needs_background": "light"
     },
     "output_type": "display_data"
    }
   ],
   "source": [
    "lambdas = np.arange(0.01, 1, 0.01)\n",
    "MSE = []\n",
    "for l in lambdas:\n",
    "    MSE.append(np.mean(lasso_cv(xt, yt, l, 10)))\n",
    "\n",
    "sns.scatterplot(x = \"lambda\", y = \"MSE\", data = pd.DataFrame({\"lambda\": lambdas, \"MSE\": MSE}))"
   ]
  },
  {
   "cell_type": "code",
   "execution_count": 113,
   "metadata": {},
   "outputs": [
    {
     "data": {
      "text/plain": [
       "(1.8145436278960585, 0.19)"
      ]
     },
     "execution_count": 113,
     "metadata": {},
     "output_type": "execute_result"
    }
   ],
   "source": [
    "min(zip(MSE, lambdas))"
   ]
  },
  {
   "cell_type": "code",
   "execution_count": 122,
   "metadata": {},
   "outputs": [
    {
     "data": {
      "image/png": "[encoded data removed]",
      "text/plain": [
       "<Figure size 432x288 with 1 Axes>"
      ]
     },
     "metadata": {
      "needs_background": "light"
     },
     "output_type": "display_data"
    },
    {
     "name": "stdout",
     "output_type": "stream",
     "text": [
      "  feature  coefficient\n",
      "0       X     1.823572\n",
      "1      X2     0.454881\n",
      "2      X3     1.802128\n",
      "3      X4     0.847043\n",
      "4      X5     0.373082\n",
      "5      X6     0.000000\n",
      "6      X7     0.000000\n",
      "7      X8    -0.000000\n",
      "8      X9    -0.009186\n",
      "9     X10    -0.002988\n"
     ]
    }
   ],
   "source": [
    "lamb = min(zip(MSE, lambdas))[1]\n",
    "\n",
    "model = linear_model.Lasso(alpha = lamb, fit_intercept = True, normalize = False, \n",
    "                           max_iter = 1000000).fit(xt, yt)\n",
    "df = pd.DataFrame({\"feature\": xt.columns, \"coefficient\": model.coef_})\n",
    "\n",
    "ax = sns.barplot(x = \"coefficient\", y =\"feature\", data = df)\n",
    "plt.xticks(rotation = 90)\n",
    "plt.show()\n",
    "print(df)"
   ]
  },
  {
   "cell_type": "markdown",
   "metadata": {},
   "source": [
    "# Question 9"
   ]
  },
  {
   "cell_type": "code",
   "execution_count": 214,
   "metadata": {},
   "outputs": [
    {
     "data": {
      "text/html": [
       "<div>\n",
       "<style scoped>\n",
       "    .dataframe tbody tr th:only-of-type {\n",
       "        vertical-align: middle;\n",
       "    }\n",
       "\n",
       "    .dataframe tbody tr th {\n",
       "        vertical-align: top;\n",
       "    }\n",
       "\n",
       "    .dataframe thead th {\n",
       "        text-align: right;\n",
       "    }\n",
       "</style>\n",
       "<table border=\"1\" class=\"dataframe\">\n",
       "  <thead>\n",
       "    <tr style=\"text-align: right;\">\n",
       "      <th></th>\n",
       "      <th>Unnamed: 0</th>\n",
       "      <th>Private</th>\n",
       "      <th>Apps</th>\n",
       "      <th>Accept</th>\n",
       "      <th>Enroll</th>\n",
       "      <th>Top10perc</th>\n",
       "      <th>Top25perc</th>\n",
       "      <th>F.Undergrad</th>\n",
       "      <th>P.Undergrad</th>\n",
       "      <th>Outstate</th>\n",
       "      <th>Room.Board</th>\n",
       "      <th>Books</th>\n",
       "      <th>Personal</th>\n",
       "      <th>PhD</th>\n",
       "      <th>Terminal</th>\n",
       "      <th>S.F.Ratio</th>\n",
       "      <th>perc.alumni</th>\n",
       "      <th>Expend</th>\n",
       "      <th>Grad.Rate</th>\n",
       "    </tr>\n",
       "  </thead>\n",
       "  <tbody>\n",
       "    <tr>\n",
       "      <th>0</th>\n",
       "      <td>Abilene Christian University</td>\n",
       "      <td>Yes</td>\n",
       "      <td>1660</td>\n",
       "      <td>1232</td>\n",
       "      <td>721</td>\n",
       "      <td>23</td>\n",
       "      <td>52</td>\n",
       "      <td>2885</td>\n",
       "      <td>537</td>\n",
       "      <td>7440</td>\n",
       "      <td>3300</td>\n",
       "      <td>450</td>\n",
       "      <td>2200</td>\n",
       "      <td>70</td>\n",
       "      <td>78</td>\n",
       "      <td>18.1</td>\n",
       "      <td>12</td>\n",
       "      <td>7041</td>\n",
       "      <td>60</td>\n",
       "    </tr>\n",
       "    <tr>\n",
       "      <th>1</th>\n",
       "      <td>Adelphi University</td>\n",
       "      <td>Yes</td>\n",
       "      <td>2186</td>\n",
       "      <td>1924</td>\n",
       "      <td>512</td>\n",
       "      <td>16</td>\n",
       "      <td>29</td>\n",
       "      <td>2683</td>\n",
       "      <td>1227</td>\n",
       "      <td>12280</td>\n",
       "      <td>6450</td>\n",
       "      <td>750</td>\n",
       "      <td>1500</td>\n",
       "      <td>29</td>\n",
       "      <td>30</td>\n",
       "      <td>12.2</td>\n",
       "      <td>16</td>\n",
       "      <td>10527</td>\n",
       "      <td>56</td>\n",
       "    </tr>\n",
       "    <tr>\n",
       "      <th>2</th>\n",
       "      <td>Adrian College</td>\n",
       "      <td>Yes</td>\n",
       "      <td>1428</td>\n",
       "      <td>1097</td>\n",
       "      <td>336</td>\n",
       "      <td>22</td>\n",
       "      <td>50</td>\n",
       "      <td>1036</td>\n",
       "      <td>99</td>\n",
       "      <td>11250</td>\n",
       "      <td>3750</td>\n",
       "      <td>400</td>\n",
       "      <td>1165</td>\n",
       "      <td>53</td>\n",
       "      <td>66</td>\n",
       "      <td>12.9</td>\n",
       "      <td>30</td>\n",
       "      <td>8735</td>\n",
       "      <td>54</td>\n",
       "    </tr>\n",
       "    <tr>\n",
       "      <th>3</th>\n",
       "      <td>Agnes Scott College</td>\n",
       "      <td>Yes</td>\n",
       "      <td>417</td>\n",
       "      <td>349</td>\n",
       "      <td>137</td>\n",
       "      <td>60</td>\n",
       "      <td>89</td>\n",
       "      <td>510</td>\n",
       "      <td>63</td>\n",
       "      <td>12960</td>\n",
       "      <td>5450</td>\n",
       "      <td>450</td>\n",
       "      <td>875</td>\n",
       "      <td>92</td>\n",
       "      <td>97</td>\n",
       "      <td>7.7</td>\n",
       "      <td>37</td>\n",
       "      <td>19016</td>\n",
       "      <td>59</td>\n",
       "    </tr>\n",
       "    <tr>\n",
       "      <th>4</th>\n",
       "      <td>Alaska Pacific University</td>\n",
       "      <td>Yes</td>\n",
       "      <td>193</td>\n",
       "      <td>146</td>\n",
       "      <td>55</td>\n",
       "      <td>16</td>\n",
       "      <td>44</td>\n",
       "      <td>249</td>\n",
       "      <td>869</td>\n",
       "      <td>7560</td>\n",
       "      <td>4120</td>\n",
       "      <td>800</td>\n",
       "      <td>1500</td>\n",
       "      <td>76</td>\n",
       "      <td>72</td>\n",
       "      <td>11.9</td>\n",
       "      <td>2</td>\n",
       "      <td>10922</td>\n",
       "      <td>15</td>\n",
       "    </tr>\n",
       "  </tbody>\n",
       "</table>\n",
       "</div>"
      ],
      "text/plain": [
       "                     Unnamed: 0 Private  Apps  Accept  Enroll  Top10perc  \\\n",
       "0  Abilene Christian University     Yes  1660    1232     721         23   \n",
       "1            Adelphi University     Yes  2186    1924     512         16   \n",
       "2                Adrian College     Yes  1428    1097     336         22   \n",
       "3           Agnes Scott College     Yes   417     349     137         60   \n",
       "4     Alaska Pacific University     Yes   193     146      55         16   \n",
       "\n",
       "   Top25perc  F.Undergrad  P.Undergrad  Outstate  Room.Board  Books  Personal  \\\n",
       "0         52         2885          537      7440        3300    450      2200   \n",
       "1         29         2683         1227     12280        6450    750      1500   \n",
       "2         50         1036           99     11250        3750    400      1165   \n",
       "3         89          510           63     12960        5450    450       875   \n",
       "4         44          249          869      7560        4120    800      1500   \n",
       "\n",
       "   PhD  Terminal  S.F.Ratio  perc.alumni  Expend  Grad.Rate  \n",
       "0   70        78       18.1           12    7041         60  \n",
       "1   29        30       12.2           16   10527         56  \n",
       "2   53        66       12.9           30    8735         54  \n",
       "3   92        97        7.7           37   19016         59  \n",
       "4   76        72       11.9            2   10922         15  "
      ]
     },
     "execution_count": 214,
     "metadata": {},
     "output_type": "execute_result"
    }
   ],
   "source": [
    "college = pd.read_csv(\"college.csv\")\n",
    "college.head()"
   ]
  },
  {
   "cell_type": "code",
   "execution_count": 215,
   "metadata": {},
   "outputs": [
    {
     "data": {
      "text/html": [
       "<div>\n",
       "<style scoped>\n",
       "    .dataframe tbody tr th:only-of-type {\n",
       "        vertical-align: middle;\n",
       "    }\n",
       "\n",
       "    .dataframe tbody tr th {\n",
       "        vertical-align: top;\n",
       "    }\n",
       "\n",
       "    .dataframe thead th {\n",
       "        text-align: right;\n",
       "    }\n",
       "</style>\n",
       "<table border=\"1\" class=\"dataframe\">\n",
       "  <thead>\n",
       "    <tr style=\"text-align: right;\">\n",
       "      <th></th>\n",
       "      <th>Private</th>\n",
       "      <th>Apps</th>\n",
       "      <th>Accept</th>\n",
       "      <th>Enroll</th>\n",
       "      <th>Top10perc</th>\n",
       "      <th>Top25perc</th>\n",
       "      <th>F.Undergrad</th>\n",
       "      <th>P.Undergrad</th>\n",
       "      <th>Outstate</th>\n",
       "      <th>Books</th>\n",
       "      <th>Personal</th>\n",
       "      <th>PhD</th>\n",
       "      <th>Terminal</th>\n",
       "      <th>S.F.Ratio</th>\n",
       "      <th>perc.alumni</th>\n",
       "      <th>Expend</th>\n",
       "      <th>Grad.Rate</th>\n",
       "    </tr>\n",
       "  </thead>\n",
       "  <tbody>\n",
       "    <tr>\n",
       "      <th>0</th>\n",
       "      <td>Yes</td>\n",
       "      <td>1660</td>\n",
       "      <td>1232</td>\n",
       "      <td>721</td>\n",
       "      <td>23</td>\n",
       "      <td>52</td>\n",
       "      <td>2885</td>\n",
       "      <td>537</td>\n",
       "      <td>7440</td>\n",
       "      <td>450</td>\n",
       "      <td>2200</td>\n",
       "      <td>70</td>\n",
       "      <td>78</td>\n",
       "      <td>18.1</td>\n",
       "      <td>12</td>\n",
       "      <td>7041</td>\n",
       "      <td>60</td>\n",
       "    </tr>\n",
       "    <tr>\n",
       "      <th>1</th>\n",
       "      <td>Yes</td>\n",
       "      <td>2186</td>\n",
       "      <td>1924</td>\n",
       "      <td>512</td>\n",
       "      <td>16</td>\n",
       "      <td>29</td>\n",
       "      <td>2683</td>\n",
       "      <td>1227</td>\n",
       "      <td>12280</td>\n",
       "      <td>750</td>\n",
       "      <td>1500</td>\n",
       "      <td>29</td>\n",
       "      <td>30</td>\n",
       "      <td>12.2</td>\n",
       "      <td>16</td>\n",
       "      <td>10527</td>\n",
       "      <td>56</td>\n",
       "    </tr>\n",
       "    <tr>\n",
       "      <th>2</th>\n",
       "      <td>Yes</td>\n",
       "      <td>1428</td>\n",
       "      <td>1097</td>\n",
       "      <td>336</td>\n",
       "      <td>22</td>\n",
       "      <td>50</td>\n",
       "      <td>1036</td>\n",
       "      <td>99</td>\n",
       "      <td>11250</td>\n",
       "      <td>400</td>\n",
       "      <td>1165</td>\n",
       "      <td>53</td>\n",
       "      <td>66</td>\n",
       "      <td>12.9</td>\n",
       "      <td>30</td>\n",
       "      <td>8735</td>\n",
       "      <td>54</td>\n",
       "    </tr>\n",
       "    <tr>\n",
       "      <th>3</th>\n",
       "      <td>Yes</td>\n",
       "      <td>417</td>\n",
       "      <td>349</td>\n",
       "      <td>137</td>\n",
       "      <td>60</td>\n",
       "      <td>89</td>\n",
       "      <td>510</td>\n",
       "      <td>63</td>\n",
       "      <td>12960</td>\n",
       "      <td>450</td>\n",
       "      <td>875</td>\n",
       "      <td>92</td>\n",
       "      <td>97</td>\n",
       "      <td>7.7</td>\n",
       "      <td>37</td>\n",
       "      <td>19016</td>\n",
       "      <td>59</td>\n",
       "    </tr>\n",
       "    <tr>\n",
       "      <th>4</th>\n",
       "      <td>Yes</td>\n",
       "      <td>193</td>\n",
       "      <td>146</td>\n",
       "      <td>55</td>\n",
       "      <td>16</td>\n",
       "      <td>44</td>\n",
       "      <td>249</td>\n",
       "      <td>869</td>\n",
       "      <td>7560</td>\n",
       "      <td>800</td>\n",
       "      <td>1500</td>\n",
       "      <td>76</td>\n",
       "      <td>72</td>\n",
       "      <td>11.9</td>\n",
       "      <td>2</td>\n",
       "      <td>10922</td>\n",
       "      <td>15</td>\n",
       "    </tr>\n",
       "  </tbody>\n",
       "</table>\n",
       "</div>"
      ],
      "text/plain": [
       "  Private  Apps  Accept  Enroll  Top10perc  Top25perc  F.Undergrad  \\\n",
       "0     Yes  1660    1232     721         23         52         2885   \n",
       "1     Yes  2186    1924     512         16         29         2683   \n",
       "2     Yes  1428    1097     336         22         50         1036   \n",
       "3     Yes   417     349     137         60         89          510   \n",
       "4     Yes   193     146      55         16         44          249   \n",
       "\n",
       "   P.Undergrad  Outstate  Books  Personal  PhD  Terminal  S.F.Ratio  \\\n",
       "0          537      7440    450      2200   70        78       18.1   \n",
       "1         1227     12280    750      1500   29        30       12.2   \n",
       "2           99     11250    400      1165   53        66       12.9   \n",
       "3           63     12960    450       875   92        97        7.7   \n",
       "4          869      7560    800      1500   76        72       11.9   \n",
       "\n",
       "   perc.alumni  Expend  Grad.Rate  \n",
       "0           12    7041         60  \n",
       "1           16   10527         56  \n",
       "2           30    8735         54  \n",
       "3           37   19016         59  \n",
       "4            2   10922         15  "
      ]
     },
     "execution_count": 215,
     "metadata": {},
     "output_type": "execute_result"
    }
   ],
   "source": [
    "\n",
    "college = college.drop(\"Unnamed: 0\", axis = 1)\n",
    "#college.rename_axis([None, \"College\"], inplace = True)\n",
    "college = college.drop(\"Room.Board\", axis = 1)\n",
    "college.head()"
   ]
  },
  {
   "cell_type": "code",
   "execution_count": 216,
   "metadata": {},
   "outputs": [
    {
     "data": {
      "text/plain": [
       "Private        0\n",
       "Apps           0\n",
       "Accept         0\n",
       "Enroll         0\n",
       "Top10perc      0\n",
       "Top25perc      0\n",
       "F.Undergrad    0\n",
       "P.Undergrad    0\n",
       "Outstate       0\n",
       "Books          0\n",
       "Personal       0\n",
       "PhD            0\n",
       "Terminal       0\n",
       "S.F.Ratio      0\n",
       "perc.alumni    0\n",
       "Expend         0\n",
       "Grad.Rate      0\n",
       "dtype: int64"
      ]
     },
     "execution_count": 216,
     "metadata": {},
     "output_type": "execute_result"
    }
   ],
   "source": [
    "# let us see if there are any null values\n",
    "college.isnull().sum()"
   ]
  },
  {
   "cell_type": "code",
   "execution_count": 217,
   "metadata": {},
   "outputs": [
    {
     "data": {
      "text/html": [
       "<div>\n",
       "<style scoped>\n",
       "    .dataframe tbody tr th:only-of-type {\n",
       "        vertical-align: middle;\n",
       "    }\n",
       "\n",
       "    .dataframe tbody tr th {\n",
       "        vertical-align: top;\n",
       "    }\n",
       "\n",
       "    .dataframe thead th {\n",
       "        text-align: right;\n",
       "    }\n",
       "</style>\n",
       "<table border=\"1\" class=\"dataframe\">\n",
       "  <thead>\n",
       "    <tr style=\"text-align: right;\">\n",
       "      <th></th>\n",
       "      <th>Apps</th>\n",
       "      <th>Accept</th>\n",
       "      <th>Enroll</th>\n",
       "      <th>Top10perc</th>\n",
       "      <th>Top25perc</th>\n",
       "      <th>F_Undergrad</th>\n",
       "      <th>P_Undergrad</th>\n",
       "      <th>Outstate</th>\n",
       "      <th>Books</th>\n",
       "      <th>Personal</th>\n",
       "      <th>PhD</th>\n",
       "      <th>Terminal</th>\n",
       "      <th>S_F_Ratio</th>\n",
       "      <th>perc_alumni</th>\n",
       "      <th>Expend</th>\n",
       "      <th>Grad_Rate</th>\n",
       "      <th>Private_Yes</th>\n",
       "    </tr>\n",
       "  </thead>\n",
       "  <tbody>\n",
       "    <tr>\n",
       "      <th>0</th>\n",
       "      <td>1660.0</td>\n",
       "      <td>1232.0</td>\n",
       "      <td>721.0</td>\n",
       "      <td>23.0</td>\n",
       "      <td>52.0</td>\n",
       "      <td>2885.0</td>\n",
       "      <td>537.0</td>\n",
       "      <td>7440.0</td>\n",
       "      <td>450.0</td>\n",
       "      <td>2200.0</td>\n",
       "      <td>70.0</td>\n",
       "      <td>78.0</td>\n",
       "      <td>18.1</td>\n",
       "      <td>12.0</td>\n",
       "      <td>7041.0</td>\n",
       "      <td>60.0</td>\n",
       "      <td>1.0</td>\n",
       "    </tr>\n",
       "    <tr>\n",
       "      <th>1</th>\n",
       "      <td>2186.0</td>\n",
       "      <td>1924.0</td>\n",
       "      <td>512.0</td>\n",
       "      <td>16.0</td>\n",
       "      <td>29.0</td>\n",
       "      <td>2683.0</td>\n",
       "      <td>1227.0</td>\n",
       "      <td>12280.0</td>\n",
       "      <td>750.0</td>\n",
       "      <td>1500.0</td>\n",
       "      <td>29.0</td>\n",
       "      <td>30.0</td>\n",
       "      <td>12.2</td>\n",
       "      <td>16.0</td>\n",
       "      <td>10527.0</td>\n",
       "      <td>56.0</td>\n",
       "      <td>1.0</td>\n",
       "    </tr>\n",
       "    <tr>\n",
       "      <th>2</th>\n",
       "      <td>1428.0</td>\n",
       "      <td>1097.0</td>\n",
       "      <td>336.0</td>\n",
       "      <td>22.0</td>\n",
       "      <td>50.0</td>\n",
       "      <td>1036.0</td>\n",
       "      <td>99.0</td>\n",
       "      <td>11250.0</td>\n",
       "      <td>400.0</td>\n",
       "      <td>1165.0</td>\n",
       "      <td>53.0</td>\n",
       "      <td>66.0</td>\n",
       "      <td>12.9</td>\n",
       "      <td>30.0</td>\n",
       "      <td>8735.0</td>\n",
       "      <td>54.0</td>\n",
       "      <td>1.0</td>\n",
       "    </tr>\n",
       "    <tr>\n",
       "      <th>3</th>\n",
       "      <td>417.0</td>\n",
       "      <td>349.0</td>\n",
       "      <td>137.0</td>\n",
       "      <td>60.0</td>\n",
       "      <td>89.0</td>\n",
       "      <td>510.0</td>\n",
       "      <td>63.0</td>\n",
       "      <td>12960.0</td>\n",
       "      <td>450.0</td>\n",
       "      <td>875.0</td>\n",
       "      <td>92.0</td>\n",
       "      <td>97.0</td>\n",
       "      <td>7.7</td>\n",
       "      <td>37.0</td>\n",
       "      <td>19016.0</td>\n",
       "      <td>59.0</td>\n",
       "      <td>1.0</td>\n",
       "    </tr>\n",
       "    <tr>\n",
       "      <th>4</th>\n",
       "      <td>193.0</td>\n",
       "      <td>146.0</td>\n",
       "      <td>55.0</td>\n",
       "      <td>16.0</td>\n",
       "      <td>44.0</td>\n",
       "      <td>249.0</td>\n",
       "      <td>869.0</td>\n",
       "      <td>7560.0</td>\n",
       "      <td>800.0</td>\n",
       "      <td>1500.0</td>\n",
       "      <td>76.0</td>\n",
       "      <td>72.0</td>\n",
       "      <td>11.9</td>\n",
       "      <td>2.0</td>\n",
       "      <td>10922.0</td>\n",
       "      <td>15.0</td>\n",
       "      <td>1.0</td>\n",
       "    </tr>\n",
       "  </tbody>\n",
       "</table>\n",
       "</div>"
      ],
      "text/plain": [
       "     Apps  Accept  Enroll  Top10perc  Top25perc  F_Undergrad  P_Undergrad  \\\n",
       "0  1660.0  1232.0   721.0       23.0       52.0       2885.0        537.0   \n",
       "1  2186.0  1924.0   512.0       16.0       29.0       2683.0       1227.0   \n",
       "2  1428.0  1097.0   336.0       22.0       50.0       1036.0         99.0   \n",
       "3   417.0   349.0   137.0       60.0       89.0        510.0         63.0   \n",
       "4   193.0   146.0    55.0       16.0       44.0        249.0        869.0   \n",
       "\n",
       "   Outstate  Books  Personal   PhD  Terminal  S_F_Ratio  perc_alumni   Expend  \\\n",
       "0    7440.0  450.0    2200.0  70.0      78.0       18.1         12.0   7041.0   \n",
       "1   12280.0  750.0    1500.0  29.0      30.0       12.2         16.0  10527.0   \n",
       "2   11250.0  400.0    1165.0  53.0      66.0       12.9         30.0   8735.0   \n",
       "3   12960.0  450.0     875.0  92.0      97.0        7.7         37.0  19016.0   \n",
       "4    7560.0  800.0    1500.0  76.0      72.0       11.9          2.0  10922.0   \n",
       "\n",
       "   Grad_Rate  Private_Yes  \n",
       "0       60.0          1.0  \n",
       "1       56.0          1.0  \n",
       "2       54.0          1.0  \n",
       "3       59.0          1.0  \n",
       "4       15.0          1.0  "
      ]
     },
     "execution_count": 217,
     "metadata": {},
     "output_type": "execute_result"
    }
   ],
   "source": [
    "#there are no null values present in the data-set. It is time to convert the categorical columns\n",
    "college = pd.get_dummies(college).drop(\"Private_No\", axis = 1)\n",
    "#convert everything into floats\n",
    "college = college.astype(float)\n",
    "#lets remove full stops from the column names\n",
    "college = college.rename( index = str, columns = {\n",
    "    \"F.Undergrad\" : \"F_Undergrad\",\n",
    "    \"P.Undergrad\" : \"P_Undergrad\",\n",
    "    \"S.F.Ratio\" : \"S_F_Ratio\",\n",
    "    \"perc.alumni\" : \"perc_alumni\",\n",
    "    \"Grad.Rate\" : \"Grad_Rate\"\n",
    "    #\"Room.Board\" : \" RoomBoard\"\n",
    "})\n",
    "#college = college.drop(\"RoomBoard\", axis = 1)\n",
    "college.head()"
   ]
  },
  {
   "cell_type": "code",
   "execution_count": 218,
   "metadata": {},
   "outputs": [
    {
     "data": {
      "text/html": [
       "<div>\n",
       "<style scoped>\n",
       "    .dataframe tbody tr th:only-of-type {\n",
       "        vertical-align: middle;\n",
       "    }\n",
       "\n",
       "    .dataframe tbody tr th {\n",
       "        vertical-align: top;\n",
       "    }\n",
       "\n",
       "    .dataframe thead th {\n",
       "        text-align: right;\n",
       "    }\n",
       "</style>\n",
       "<table border=\"1\" class=\"dataframe\">\n",
       "  <thead>\n",
       "    <tr style=\"text-align: right;\">\n",
       "      <th></th>\n",
       "      <th>Accept</th>\n",
       "      <th>Enroll</th>\n",
       "      <th>Top10perc</th>\n",
       "      <th>Top25perc</th>\n",
       "      <th>F_Undergrad</th>\n",
       "      <th>P_Undergrad</th>\n",
       "      <th>Outstate</th>\n",
       "      <th>Books</th>\n",
       "      <th>Personal</th>\n",
       "      <th>PhD</th>\n",
       "      <th>Terminal</th>\n",
       "      <th>S_F_Ratio</th>\n",
       "      <th>perc_alumni</th>\n",
       "      <th>Expend</th>\n",
       "      <th>Grad_Rate</th>\n",
       "      <th>Private_Yes</th>\n",
       "    </tr>\n",
       "  </thead>\n",
       "  <tbody>\n",
       "    <tr>\n",
       "      <th>83</th>\n",
       "      <td>2193.0</td>\n",
       "      <td>753.0</td>\n",
       "      <td>16.0</td>\n",
       "      <td>34.0</td>\n",
       "      <td>2978.0</td>\n",
       "      <td>434.0</td>\n",
       "      <td>10750.0</td>\n",
       "      <td>400.0</td>\n",
       "      <td>1130.0</td>\n",
       "      <td>90.0</td>\n",
       "      <td>92.0</td>\n",
       "      <td>14.6</td>\n",
       "      <td>26.0</td>\n",
       "      <td>7972.0</td>\n",
       "      <td>64.0</td>\n",
       "      <td>1.0</td>\n",
       "    </tr>\n",
       "    <tr>\n",
       "      <th>61</th>\n",
       "      <td>7333.0</td>\n",
       "      <td>3076.0</td>\n",
       "      <td>14.0</td>\n",
       "      <td>45.0</td>\n",
       "      <td>13699.0</td>\n",
       "      <td>1213.0</td>\n",
       "      <td>7452.0</td>\n",
       "      <td>600.0</td>\n",
       "      <td>1700.0</td>\n",
       "      <td>81.0</td>\n",
       "      <td>89.0</td>\n",
       "      <td>21.1</td>\n",
       "      <td>14.0</td>\n",
       "      <td>6918.0</td>\n",
       "      <td>67.0</td>\n",
       "      <td>0.0</td>\n",
       "    </tr>\n",
       "    <tr>\n",
       "      <th>275</th>\n",
       "      <td>423.0</td>\n",
       "      <td>366.0</td>\n",
       "      <td>20.0</td>\n",
       "      <td>48.0</td>\n",
       "      <td>2448.0</td>\n",
       "      <td>707.0</td>\n",
       "      <td>9210.0</td>\n",
       "      <td>700.0</td>\n",
       "      <td>1000.0</td>\n",
       "      <td>49.0</td>\n",
       "      <td>51.0</td>\n",
       "      <td>39.8</td>\n",
       "      <td>15.0</td>\n",
       "      <td>6562.0</td>\n",
       "      <td>34.0</td>\n",
       "      <td>1.0</td>\n",
       "    </tr>\n",
       "    <tr>\n",
       "      <th>426</th>\n",
       "      <td>324.0</td>\n",
       "      <td>107.0</td>\n",
       "      <td>15.0</td>\n",
       "      <td>37.0</td>\n",
       "      <td>500.0</td>\n",
       "      <td>311.0</td>\n",
       "      <td>9990.0</td>\n",
       "      <td>400.0</td>\n",
       "      <td>600.0</td>\n",
       "      <td>44.0</td>\n",
       "      <td>47.0</td>\n",
       "      <td>12.1</td>\n",
       "      <td>26.0</td>\n",
       "      <td>4948.0</td>\n",
       "      <td>33.0</td>\n",
       "      <td>1.0</td>\n",
       "    </tr>\n",
       "    <tr>\n",
       "      <th>182</th>\n",
       "      <td>440.0</td>\n",
       "      <td>227.0</td>\n",
       "      <td>19.0</td>\n",
       "      <td>48.0</td>\n",
       "      <td>903.0</td>\n",
       "      <td>59.0</td>\n",
       "      <td>9650.0</td>\n",
       "      <td>600.0</td>\n",
       "      <td>1300.0</td>\n",
       "      <td>46.0</td>\n",
       "      <td>65.0</td>\n",
       "      <td>11.4</td>\n",
       "      <td>29.0</td>\n",
       "      <td>10188.0</td>\n",
       "      <td>82.0</td>\n",
       "      <td>1.0</td>\n",
       "    </tr>\n",
       "  </tbody>\n",
       "</table>\n",
       "</div>"
      ],
      "text/plain": [
       "     Accept  Enroll  Top10perc  Top25perc  F_Undergrad  P_Undergrad  Outstate  \\\n",
       "83   2193.0   753.0       16.0       34.0       2978.0        434.0   10750.0   \n",
       "61   7333.0  3076.0       14.0       45.0      13699.0       1213.0    7452.0   \n",
       "275   423.0   366.0       20.0       48.0       2448.0        707.0    9210.0   \n",
       "426   324.0   107.0       15.0       37.0        500.0        311.0    9990.0   \n",
       "182   440.0   227.0       19.0       48.0        903.0         59.0    9650.0   \n",
       "\n",
       "     Books  Personal   PhD  Terminal  S_F_Ratio  perc_alumni   Expend  \\\n",
       "83   400.0    1130.0  90.0      92.0       14.6         26.0   7972.0   \n",
       "61   600.0    1700.0  81.0      89.0       21.1         14.0   6918.0   \n",
       "275  700.0    1000.0  49.0      51.0       39.8         15.0   6562.0   \n",
       "426  400.0     600.0  44.0      47.0       12.1         26.0   4948.0   \n",
       "182  600.0    1300.0  46.0      65.0       11.4         29.0  10188.0   \n",
       "\n",
       "     Grad_Rate  Private_Yes  \n",
       "83        64.0          1.0  \n",
       "61        67.0          0.0  \n",
       "275       34.0          1.0  \n",
       "426       33.0          1.0  \n",
       "182       82.0          1.0  "
      ]
     },
     "execution_count": 218,
     "metadata": {},
     "output_type": "execute_result"
    }
   ],
   "source": [
    "# split the data into train and test data\n",
    "from sklearn.model_selection import train_test_split\n",
    "response = \"Apps\"\n",
    "x = college.drop(response, axis = 1)\n",
    "y = college[response]\n",
    "\n",
    "x_train, x_test, y_train, y_test = train_test_split(x, y, test_size=0.33, random_state=42)\n",
    "\n",
    "'''np.random.seed(1)\n",
    "train = np.random.rand(len(college)) < 0.5\n",
    "response = \"Apps\"\n",
    "x_train = college[train].drop(response, axis = 1)\n",
    "x_test = college[~train].drop(response, axis = 1)\n",
    "y_train = college[train][response]\n",
    "y_test = college[~train][response]'''\n",
    "x_train.head()"
   ]
  },
  {
   "cell_type": "code",
   "execution_count": 219,
   "metadata": {},
   "outputs": [
    {
     "name": "stdout",
     "output_type": "stream",
     "text": [
      "RMSE 1340.2003858213411\n"
     ]
    }
   ],
   "source": [
    "# part b\n",
    "f = \"Apps ~ {}\".format(\" + \".join(x_train.columns))\n",
    "model = smf.ols( f, pd.concat([x_train, y_train], axis = 1)).fit()\n",
    "y_hat = model.predict(x_test)\n",
    "print(\"RMSE\", np.sqrt(mse(y_hat, y_test)))"
   ]
  },
  {
   "cell_type": "code",
   "execution_count": 226,
   "metadata": {},
   "outputs": [
    {
     "data": {
      "image/png": "[encoded data removed]",
      "text/plain": [
       "<Figure size 432x288 with 1 Axes>"
      ]
     },
     "metadata": {
      "needs_background": "light"
     },
     "output_type": "display_data"
    },
    {
     "data": {
      "image/png": "[encoded data removed]",
      "text/plain": [
       "<Figure size 432x288 with 1 Axes>"
      ]
     },
     "metadata": {
      "needs_background": "light"
     },
     "output_type": "display_data"
    },
    {
     "name": "stdout",
     "output_type": "stream",
     "text": [
      "        feature  coefficient\n",
      "0     Intercept  -567.445931\n",
      "1        Accept     1.757647\n",
      "2        Enroll    -1.310412\n",
      "3     Top10perc    32.330508\n",
      "4     Top25perc    -3.773980\n",
      "5   F_Undergrad     0.034916\n",
      "6   P_Undergrad     0.036554\n",
      "7      Outstate    -0.062909\n",
      "8         Books     0.249975\n",
      "9      Personal     0.061054\n",
      "10          PhD    -9.347227\n",
      "11     Terminal     0.842779\n",
      "12    S_F_Ratio    21.657233\n",
      "13  perc_alumni     0.001879\n",
      "14       Expend     0.066640\n",
      "15    Grad_Rate     8.734721\n",
      "16  Private_Yes  -438.631452\n",
      "Optimal Lambda:  7.600000000000006\n"
     ]
    }
   ],
   "source": [
    "#time for ridge regression\n",
    "def ridge_cv(x,y,l,k):\n",
    "    x_folds = np.array_split(x, k)\n",
    "    y_folds = np.array_split(y, k)\n",
    "    MSE = []\n",
    "    for f in np.arange(len(x_folds)):\n",
    "        x_test = x_folds[f]\n",
    "        y_test = y_folds[f]\n",
    "        x_train = x.drop(x_folds[f].index)\n",
    "        y_train = y.drop(y_folds[f].index)\n",
    "        \n",
    "        model = linear_model.Ridge(alpha = l, fit_intercept = True, normalize = False, \n",
    "                                   solver = \"cholesky\").fit(x_train, y_train)\n",
    "        y_hat = model.predict(x_test)\n",
    "        MSE.append(mse(y_hat, y_test))\n",
    "    return MSE\n",
    "\n",
    "def optimise(x, y, cv, lambdas):\n",
    "    MSE = []\n",
    "    for l in lambdas:\n",
    "        MSE.append(np.mean(cv(x,y,l,10)))\n",
    "    sns.scatterplot(x = \"lambda\", y = \"MSE\", data = pd.DataFrame({\"lambda\": lambdas, \"MSE\":MSE}))\n",
    "    plt.show()\n",
    "    \n",
    "    lamb = min(zip(MSE, lambdas))\n",
    "    model = linear_model.Ridge(alpha = lamb[1], fit_intercept = True, normalize = False,\n",
    "                              solver = \"cholesky\").fit(x,y)\n",
    "    df = pd.DataFrame({\"feature\": \"Intercept\", \"coefficient\" : [model.intercept_]})\n",
    "    ridge_df = df.append(pd.DataFrame({\"feature\": x.columns, \"coefficient\" : model.coef_}), \n",
    "                         ignore_index = True)\n",
    "    ax = sns.barplot(x = \"coefficient\", y = \"feature\", data = ridge_df)\n",
    "    plt.xticks(rotation = 90)\n",
    "    plt.show()\n",
    "    print(ridge_df)\n",
    "    return lamb[1]\n",
    "opt_lamb = optimise(x_train, y_train, ridge_cv, np.arange(1, 20, 0.1))\n",
    "print(\"Optimal Lambda: \", opt_lamb)"
   ]
  },
  {
   "cell_type": "code",
   "execution_count": 228,
   "metadata": {},
   "outputs": [
    {
     "name": "stdout",
     "output_type": "stream",
     "text": [
      "1338.6129252916091\n"
     ]
    }
   ],
   "source": [
    "#time to test the error\n",
    "model = linear_model.Ridge(alpha = opt_lamb, fit_intercept = True, normalize = False,\n",
    "                          solver = \"cholesky\").fit(x_train, y_train)\n",
    "y_hat = model.predict(x_test)\n",
    "print(np.sqrt(mse(y_hat, y_test)))"
   ]
  },
  {
   "cell_type": "code",
   "execution_count": 230,
   "metadata": {},
   "outputs": [
    {
     "data": {
      "image/png": "[encoded data removed]",
      "text/plain": [
       "<Figure size 432x288 with 1 Axes>"
      ]
     },
     "metadata": {
      "needs_background": "light"
     },
     "output_type": "display_data"
    },
    {
     "name": "stdout",
     "output_type": "stream",
     "text": [
      "(1075647.7139970823, 0.040999999999999995)\n"
     ]
    }
   ],
   "source": [
    "#time tp perform the Lasso on this data-set\n",
    "def lasso_cv(x,y,l,k):\n",
    "    x_folds = np.array_split(x,k)\n",
    "    y_holds = np.array_split(y,k)\n",
    "    MSE = []\n",
    "    for f in np.arange(len(x_folds)):\n",
    "        x_test = x_folds[f]\n",
    "        y_test = y_holds[f]\n",
    "        x_train = x.drop(x_folds[f].index)\n",
    "        y_train = y.drop(y_holds[f].index)\n",
    "        model = linear_model.Lasso(alpha = l, copy_X = True, fit_intercept = True, max_iter = 10000,\n",
    "                                  normalize = True, positive = False, precompute = False).fit(x_train,\n",
    "                                                                                             y_train)\n",
    "        y_hat = model.predict(x_test)\n",
    "        MSE.append(mse(y_hat, y_test))\n",
    "    return MSE\n",
    "lambdas  = np.arange(0.001, 1 , 0.01)\n",
    "MSE = []\n",
    "for l in lambdas:\n",
    "    MSE.append(np.mean(lasso_cv(x_train, y_train, l, 10)))\n",
    "sns.scatterplot(x = \"lambdas\", y = \"MSE\", data = pd.DataFrame({\"lambdas\": lambdas, \"MSE\": MSE}))\n",
    "plt.show()\n",
    "opt_lamb = min(zip(MSE, lambdas))\n",
    "print(opt_lamb)\n",
    "        "
   ]
  },
  {
   "cell_type": "code",
   "execution_count": 232,
   "metadata": {},
   "outputs": [
    {
     "name": "stdout",
     "output_type": "stream",
     "text": [
      "1339.7699950677918\n"
     ]
    },
    {
     "data": {
      "image/png": "[encoded data removed]",
      "text/plain": [
       "<Figure size 432x288 with 1 Axes>"
      ]
     },
     "metadata": {
      "needs_background": "light"
     },
     "output_type": "display_data"
    },
    {
     "name": "stdout",
     "output_type": "stream",
     "text": [
      "        feature  coefficient\n",
      "0     Intercept  -465.391213\n",
      "1        Accept     1.754017\n",
      "2        Enroll    -1.276501\n",
      "3     Top10perc    31.935897\n",
      "4     Top25perc    -3.368276\n",
      "5   F_Undergrad     0.027038\n",
      "6   P_Undergrad     0.035687\n",
      "7      Outstate    -0.057242\n",
      "8         Books     0.252336\n",
      "9      Personal     0.059040\n",
      "10          PhD    -9.213402\n",
      "11     Terminal     0.000000\n",
      "12    S_F_Ratio    19.621335\n",
      "13  perc_alumni     0.000000\n",
      "14       Expend     0.065520\n",
      "15    Grad_Rate     8.748270\n",
      "16  Private_Yes  -528.089563\n"
     ]
    }
   ],
   "source": [
    "def lasso_test(lamb):\n",
    "    model = linear_model.Lasso(alpha = lamb, copy_X = True, fit_intercept = True, max_iter = 10000,\n",
    "                                  normalize = True, positive = False, precompute = False).fit(x_train,\n",
    "                                                                                             y_train)\n",
    "    y_hat = model.predict(x_test)\n",
    "    print(np.sqrt(mse(y_hat, y_test)))\n",
    "    df = pd.DataFrame({\"feature\": \"Intercept\", \"coefficient\" : [model.intercept_]})\n",
    "    lasso_df = df.append(pd.DataFrame({\"feature\": x_train.columns, \"coefficient\" : model.coef_}), \n",
    "                         ignore_index = True)\n",
    "    ax = sns.barplot(x = \"coefficient\", y = \"feature\", data = lasso_df)\n",
    "    plt.xticks(rotation = 90)\n",
    "    plt.show()\n",
    "    print(lasso_df)\n",
    "lasso_test(opt_lamb[1])"
   ]
  },
  {
   "cell_type": "markdown",
   "metadata": {},
   "source": [
    "## Results so far\n",
    "1. Ridge : 1338.6129252916091\n",
    "2. Lasso : 1339.7699950677918\n",
    "3. OLS    : 1340.2003858213411"
   ]
  },
  {
   "cell_type": "code",
   "execution_count": 260,
   "metadata": {},
   "outputs": [
    {
     "data": {
      "image/png": "[encoded data removed]",
      "text/plain": [
       "<Figure size 432x288 with 1 Axes>"
      ]
     },
     "metadata": {
      "needs_background": "light"
     },
     "output_type": "display_data"
    },
    {
     "name": "stdout",
     "output_type": "stream",
     "text": [
      "    principal component count      RMSE_CV    RMSE_test\n",
      "15                         16  1054.766844  3231.443963\n"
     ]
    },
    {
     "name": "stderr",
     "output_type": "stream",
     "text": [
      "/Users/aviralsharma/anaconda3/lib/python3.7/site-packages/ipykernel_launcher.py:26: SettingWithCopyWarning: \n",
      "A value is trying to be set on a copy of a slice from a DataFrame.\n",
      "Try using .loc[row_indexer,col_indexer] = value instead\n",
      "\n",
      "See the caveats in the documentation: http://pandas.pydata.org/pandas-docs/stable/indexing.html#indexing-view-versus-copy\n"
     ]
    }
   ],
   "source": [
    "#time to play with dimensionality reduction a little bit\n",
    "def pcr_cv(seed, cv_folds):\n",
    "    #already have defined x & y in code above\n",
    "    x_ = x_train\n",
    "    y_ = y_train\n",
    "    pca = PCA()\n",
    "    x_reduced = pca.fit_transform(scale(x_))\n",
    "    M = x_reduced.shape[1]\n",
    "    MSE = []\n",
    "    for m in range(M):\n",
    "        model = LinearRegression()\n",
    "        cv = KFold(n_splits = cv_folds, random_state = seed, shuffle = True)\n",
    "        cv10 = cross_val_score(model, x_reduced[:, 0:m+1], y_, cv = cv, \n",
    "                               scoring = \"neg_mean_squared_error\")\n",
    "        MSE.append(np.mean(np.abs(cv10)))\n",
    "    df = pd.DataFrame({\"principal component count\": np.arange(1, M+1), \"RMSE_CV\" : np.sqrt(MSE)})\n",
    "    ax = sns.lineplot( x = \"principal component count\",  y = \"RMSE_CV\", data = df)\n",
    "    plt.show()\n",
    "    \n",
    "    #time to get the optimal number of principl components\n",
    "    m = df[df[\"RMSE_CV\"] == df[\"RMSE_CV\"].min()][\"principal component count\"].iloc[0]\n",
    "    model = LinearRegression()\n",
    "    model.fit(x_reduced[:, 0:m+1], y_train)\n",
    "    y_hat = model.predict(pca.fit_transform(scale(x_test))[:, 0:m+1])\n",
    "    best_df = df[df[\"RMSE_CV\"] == df[\"RMSE_CV\"].min()]\n",
    "    best_df[\"RMSE_test\"] = np.sqrt(mse(y_hat, y_test))\n",
    "    print(best_df)\n",
    "pcr_cv(10,10)"
   ]
  },
  {
   "cell_type": "code",
   "execution_count": 265,
   "metadata": {},
   "outputs": [
    {
     "data": {
      "image/png": "[encoded data removed]",
      "text/plain": [
       "<Figure size 432x288 with 1 Axes>"
      ]
     },
     "metadata": {
      "needs_background": "light"
     },
     "output_type": "display_data"
    },
    {
     "name": "stdout",
     "output_type": "stream",
     "text": [
      "    principal component count      RMSE_CV    RMSE_test\n",
      "15                         16  1054.766844  1340.200386\n"
     ]
    },
    {
     "name": "stderr",
     "output_type": "stream",
     "text": [
      "/Users/aviralsharma/anaconda3/lib/python3.7/site-packages/ipykernel_launcher.py:19: SettingWithCopyWarning: \n",
      "A value is trying to be set on a copy of a slice from a DataFrame.\n",
      "Try using .loc[row_indexer,col_indexer] = value instead\n",
      "\n",
      "See the caveats in the documentation: http://pandas.pydata.org/pandas-docs/stable/indexing.html#indexing-view-versus-copy\n"
     ]
    }
   ],
   "source": [
    "#time for pls\n",
    "def pls_cv(seed, cv_folds):\n",
    "    M = x_train.shape[1]\n",
    "    MSE = []\n",
    "    for m in range(M):\n",
    "        cv = KFold(n_splits=cv_folds, random_state=seed, shuffle = True)\n",
    "        results = cross_val_score(PLSRegression(n_components = m+1, scale = True,\n",
    "                                                max_iter = 10000), x_train, y_train, cv = cv,\n",
    "                                 scoring = \"neg_mean_squared_error\")\n",
    "        MSE.append(np.mean(np.abs(results)))\n",
    "    df = pd.DataFrame({\"principal component count\": np.arange(1, M+1), \"RMSE_CV\" : np.sqrt(MSE)})\n",
    "    ax = sns.lineplot( x = \"principal component count\",  y = \"RMSE_CV\", data = df)\n",
    "    plt.show()\n",
    "    #time to get the optimal number of principl components\n",
    "    m = df[df[\"RMSE_CV\"] == df[\"RMSE_CV\"].min()][\"principal component count\"].iloc[0]\n",
    "    model = PLSRegression(n_components = m, scale = True,max_iter = 10000).fit(x_train, y_train)\n",
    "    y_hat = model.predict(x_test)\n",
    "    best_df = df[df[\"RMSE_CV\"] == df[\"RMSE_CV\"].min()]\n",
    "    best_df[\"RMSE_test\"] = np.sqrt(mse(y_hat.T[0], y_test))\n",
    "    print(best_df)\n",
    "pls_cv(10, 10)"
   ]
  },
  {
   "cell_type": "code",
   "execution_count": null,
   "metadata": {},
   "outputs": [],
   "source": []
  }
 ],
 "metadata": {
  "kernelspec": {
   "display_name": "Python 3",
   "language": "python",
   "name": "python3"
  },
  "language_info": {
   "codemirror_mode": {
    "name": "ipython",
    "version": 3
   },
   "file_extension": ".py",
   "mimetype": "text/x-python",
   "name": "python",
   "nbconvert_exporter": "python",
   "pygments_lexer": "ipython3",
   "version": "3.7.3"
  }
 },
 "nbformat": 4,
 "nbformat_minor": 2
}
