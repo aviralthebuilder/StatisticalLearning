{
 "cells": [
  {
   "cell_type": "code",
   "execution_count": 1,
   "metadata": {},
   "outputs": [],
   "source": [
    "import pandas as pd\n",
    "import numpy as np\n",
    "import matplotlib.pyplot as plt\n",
    "import seaborn as sns"
   ]
  },
  {
   "cell_type": "markdown",
   "metadata": {},
   "source": [
    "# Lab1"
   ]
  },
  {
   "cell_type": "code",
   "execution_count": 2,
   "metadata": {},
   "outputs": [
    {
     "data": {
      "text/html": [
       "<div>\n",
       "<style scoped>\n",
       "    .dataframe tbody tr th:only-of-type {\n",
       "        vertical-align: middle;\n",
       "    }\n",
       "\n",
       "    .dataframe tbody tr th {\n",
       "        vertical-align: top;\n",
       "    }\n",
       "\n",
       "    .dataframe thead th {\n",
       "        text-align: right;\n",
       "    }\n",
       "</style>\n",
       "<table border=\"1\" class=\"dataframe\">\n",
       "  <thead>\n",
       "    <tr style=\"text-align: right;\">\n",
       "      <th></th>\n",
       "      <th>Unnamed: 0</th>\n",
       "      <th>AtBat</th>\n",
       "      <th>Hits</th>\n",
       "      <th>HmRun</th>\n",
       "      <th>Runs</th>\n",
       "      <th>RBI</th>\n",
       "      <th>Walks</th>\n",
       "      <th>Years</th>\n",
       "      <th>CAtBat</th>\n",
       "      <th>CHits</th>\n",
       "      <th>...</th>\n",
       "      <th>CRuns</th>\n",
       "      <th>CRBI</th>\n",
       "      <th>CWalks</th>\n",
       "      <th>League</th>\n",
       "      <th>Division</th>\n",
       "      <th>PutOuts</th>\n",
       "      <th>Assists</th>\n",
       "      <th>Errors</th>\n",
       "      <th>Salary</th>\n",
       "      <th>NewLeague</th>\n",
       "    </tr>\n",
       "  </thead>\n",
       "  <tbody>\n",
       "    <tr>\n",
       "      <th>0</th>\n",
       "      <td>-Andy Allanson</td>\n",
       "      <td>293</td>\n",
       "      <td>66</td>\n",
       "      <td>1</td>\n",
       "      <td>30</td>\n",
       "      <td>29</td>\n",
       "      <td>14</td>\n",
       "      <td>1</td>\n",
       "      <td>293</td>\n",
       "      <td>66</td>\n",
       "      <td>...</td>\n",
       "      <td>30</td>\n",
       "      <td>29</td>\n",
       "      <td>14</td>\n",
       "      <td>A</td>\n",
       "      <td>E</td>\n",
       "      <td>446</td>\n",
       "      <td>33</td>\n",
       "      <td>20</td>\n",
       "      <td>NaN</td>\n",
       "      <td>A</td>\n",
       "    </tr>\n",
       "    <tr>\n",
       "      <th>1</th>\n",
       "      <td>-Alan Ashby</td>\n",
       "      <td>315</td>\n",
       "      <td>81</td>\n",
       "      <td>7</td>\n",
       "      <td>24</td>\n",
       "      <td>38</td>\n",
       "      <td>39</td>\n",
       "      <td>14</td>\n",
       "      <td>3449</td>\n",
       "      <td>835</td>\n",
       "      <td>...</td>\n",
       "      <td>321</td>\n",
       "      <td>414</td>\n",
       "      <td>375</td>\n",
       "      <td>N</td>\n",
       "      <td>W</td>\n",
       "      <td>632</td>\n",
       "      <td>43</td>\n",
       "      <td>10</td>\n",
       "      <td>475.0</td>\n",
       "      <td>N</td>\n",
       "    </tr>\n",
       "    <tr>\n",
       "      <th>2</th>\n",
       "      <td>-Alvin Davis</td>\n",
       "      <td>479</td>\n",
       "      <td>130</td>\n",
       "      <td>18</td>\n",
       "      <td>66</td>\n",
       "      <td>72</td>\n",
       "      <td>76</td>\n",
       "      <td>3</td>\n",
       "      <td>1624</td>\n",
       "      <td>457</td>\n",
       "      <td>...</td>\n",
       "      <td>224</td>\n",
       "      <td>266</td>\n",
       "      <td>263</td>\n",
       "      <td>A</td>\n",
       "      <td>W</td>\n",
       "      <td>880</td>\n",
       "      <td>82</td>\n",
       "      <td>14</td>\n",
       "      <td>480.0</td>\n",
       "      <td>A</td>\n",
       "    </tr>\n",
       "    <tr>\n",
       "      <th>3</th>\n",
       "      <td>-Andre Dawson</td>\n",
       "      <td>496</td>\n",
       "      <td>141</td>\n",
       "      <td>20</td>\n",
       "      <td>65</td>\n",
       "      <td>78</td>\n",
       "      <td>37</td>\n",
       "      <td>11</td>\n",
       "      <td>5628</td>\n",
       "      <td>1575</td>\n",
       "      <td>...</td>\n",
       "      <td>828</td>\n",
       "      <td>838</td>\n",
       "      <td>354</td>\n",
       "      <td>N</td>\n",
       "      <td>E</td>\n",
       "      <td>200</td>\n",
       "      <td>11</td>\n",
       "      <td>3</td>\n",
       "      <td>500.0</td>\n",
       "      <td>N</td>\n",
       "    </tr>\n",
       "    <tr>\n",
       "      <th>4</th>\n",
       "      <td>-Andres Galarraga</td>\n",
       "      <td>321</td>\n",
       "      <td>87</td>\n",
       "      <td>10</td>\n",
       "      <td>39</td>\n",
       "      <td>42</td>\n",
       "      <td>30</td>\n",
       "      <td>2</td>\n",
       "      <td>396</td>\n",
       "      <td>101</td>\n",
       "      <td>...</td>\n",
       "      <td>48</td>\n",
       "      <td>46</td>\n",
       "      <td>33</td>\n",
       "      <td>N</td>\n",
       "      <td>E</td>\n",
       "      <td>805</td>\n",
       "      <td>40</td>\n",
       "      <td>4</td>\n",
       "      <td>91.5</td>\n",
       "      <td>N</td>\n",
       "    </tr>\n",
       "  </tbody>\n",
       "</table>\n",
       "<p>5 rows × 21 columns</p>\n",
       "</div>"
      ],
      "text/plain": [
       "          Unnamed: 0  AtBat  Hits  HmRun  Runs  RBI  Walks  Years  CAtBat  \\\n",
       "0     -Andy Allanson    293    66      1    30   29     14      1     293   \n",
       "1        -Alan Ashby    315    81      7    24   38     39     14    3449   \n",
       "2       -Alvin Davis    479   130     18    66   72     76      3    1624   \n",
       "3      -Andre Dawson    496   141     20    65   78     37     11    5628   \n",
       "4  -Andres Galarraga    321    87     10    39   42     30      2     396   \n",
       "\n",
       "   CHits  ...  CRuns  CRBI  CWalks  League Division PutOuts  Assists  Errors  \\\n",
       "0     66  ...     30    29      14       A        E     446       33      20   \n",
       "1    835  ...    321   414     375       N        W     632       43      10   \n",
       "2    457  ...    224   266     263       A        W     880       82      14   \n",
       "3   1575  ...    828   838     354       N        E     200       11       3   \n",
       "4    101  ...     48    46      33       N        E     805       40       4   \n",
       "\n",
       "   Salary  NewLeague  \n",
       "0     NaN          A  \n",
       "1   475.0          N  \n",
       "2   480.0          A  \n",
       "3   500.0          N  \n",
       "4    91.5          N  \n",
       "\n",
       "[5 rows x 21 columns]"
      ]
     },
     "execution_count": 2,
     "metadata": {},
     "output_type": "execute_result"
    }
   ],
   "source": [
    "data = pd.read_csv(\"hitters.csv\")\n",
    "data.head()"
   ]
  },
  {
   "cell_type": "code",
   "execution_count": 4,
   "metadata": {},
   "outputs": [
    {
     "data": {
      "text/plain": [
       "Unnamed: 0     0\n",
       "AtBat          0\n",
       "Hits           0\n",
       "HmRun          0\n",
       "Runs           0\n",
       "RBI            0\n",
       "Walks          0\n",
       "Years          0\n",
       "CAtBat         0\n",
       "CHits          0\n",
       "CHmRun         0\n",
       "CRuns          0\n",
       "CRBI           0\n",
       "CWalks         0\n",
       "League         0\n",
       "Division       0\n",
       "PutOuts        0\n",
       "Assists        0\n",
       "Errors         0\n",
       "Salary        59\n",
       "NewLeague      0\n",
       "dtype: int64"
      ]
     },
     "execution_count": 4,
     "metadata": {},
     "output_type": "execute_result"
    }
   ],
   "source": [
    "# as always with any dataset check if there are any missing/null values\n",
    "data.isnull().sum()"
   ]
  },
  {
   "cell_type": "code",
   "execution_count": 6,
   "metadata": {},
   "outputs": [
    {
     "data": {
      "text/plain": [
       "Unnamed: 0    0\n",
       "AtBat         0\n",
       "Hits          0\n",
       "HmRun         0\n",
       "Runs          0\n",
       "RBI           0\n",
       "Walks         0\n",
       "Years         0\n",
       "CAtBat        0\n",
       "CHits         0\n",
       "CHmRun        0\n",
       "CRuns         0\n",
       "CRBI          0\n",
       "CWalks        0\n",
       "League        0\n",
       "Division      0\n",
       "PutOuts       0\n",
       "Assists       0\n",
       "Errors        0\n",
       "Salary        0\n",
       "NewLeague     0\n",
       "dtype: int64"
      ]
     },
     "execution_count": 6,
     "metadata": {},
     "output_type": "execute_result"
    }
   ],
   "source": [
    "# as one can see, Salary has 59 null values, so we have to drop those 59 rows\n",
    "hitters = data.dropna()\n",
    "hitters.isnull().sum()"
   ]
  },
  {
   "cell_type": "code",
   "execution_count": 9,
   "metadata": {},
   "outputs": [
    {
     "data": {
      "text/html": [
       "<div>\n",
       "<style scoped>\n",
       "    .dataframe tbody tr th:only-of-type {\n",
       "        vertical-align: middle;\n",
       "    }\n",
       "\n",
       "    .dataframe tbody tr th {\n",
       "        vertical-align: top;\n",
       "    }\n",
       "\n",
       "    .dataframe thead th {\n",
       "        text-align: right;\n",
       "    }\n",
       "</style>\n",
       "<table border=\"1\" class=\"dataframe\">\n",
       "  <thead>\n",
       "    <tr style=\"text-align: right;\">\n",
       "      <th></th>\n",
       "      <th>Unnamed: 0</th>\n",
       "      <th>AtBat</th>\n",
       "      <th>Hits</th>\n",
       "      <th>HmRun</th>\n",
       "      <th>Runs</th>\n",
       "      <th>RBI</th>\n",
       "      <th>Walks</th>\n",
       "      <th>Years</th>\n",
       "      <th>CAtBat</th>\n",
       "      <th>CHits</th>\n",
       "      <th>...</th>\n",
       "      <th>PutOuts</th>\n",
       "      <th>Assists</th>\n",
       "      <th>Errors</th>\n",
       "      <th>Salary</th>\n",
       "      <th>League_A</th>\n",
       "      <th>League_N</th>\n",
       "      <th>Division_E</th>\n",
       "      <th>Division_W</th>\n",
       "      <th>NewLeague_A</th>\n",
       "      <th>NewLeague_N</th>\n",
       "    </tr>\n",
       "  </thead>\n",
       "  <tbody>\n",
       "    <tr>\n",
       "      <th>1</th>\n",
       "      <td>-Alan Ashby</td>\n",
       "      <td>315</td>\n",
       "      <td>81</td>\n",
       "      <td>7</td>\n",
       "      <td>24</td>\n",
       "      <td>38</td>\n",
       "      <td>39</td>\n",
       "      <td>14</td>\n",
       "      <td>3449</td>\n",
       "      <td>835</td>\n",
       "      <td>...</td>\n",
       "      <td>632</td>\n",
       "      <td>43</td>\n",
       "      <td>10</td>\n",
       "      <td>475.0</td>\n",
       "      <td>0</td>\n",
       "      <td>1</td>\n",
       "      <td>0</td>\n",
       "      <td>1</td>\n",
       "      <td>0</td>\n",
       "      <td>1</td>\n",
       "    </tr>\n",
       "    <tr>\n",
       "      <th>2</th>\n",
       "      <td>-Alvin Davis</td>\n",
       "      <td>479</td>\n",
       "      <td>130</td>\n",
       "      <td>18</td>\n",
       "      <td>66</td>\n",
       "      <td>72</td>\n",
       "      <td>76</td>\n",
       "      <td>3</td>\n",
       "      <td>1624</td>\n",
       "      <td>457</td>\n",
       "      <td>...</td>\n",
       "      <td>880</td>\n",
       "      <td>82</td>\n",
       "      <td>14</td>\n",
       "      <td>480.0</td>\n",
       "      <td>1</td>\n",
       "      <td>0</td>\n",
       "      <td>0</td>\n",
       "      <td>1</td>\n",
       "      <td>1</td>\n",
       "      <td>0</td>\n",
       "    </tr>\n",
       "    <tr>\n",
       "      <th>3</th>\n",
       "      <td>-Andre Dawson</td>\n",
       "      <td>496</td>\n",
       "      <td>141</td>\n",
       "      <td>20</td>\n",
       "      <td>65</td>\n",
       "      <td>78</td>\n",
       "      <td>37</td>\n",
       "      <td>11</td>\n",
       "      <td>5628</td>\n",
       "      <td>1575</td>\n",
       "      <td>...</td>\n",
       "      <td>200</td>\n",
       "      <td>11</td>\n",
       "      <td>3</td>\n",
       "      <td>500.0</td>\n",
       "      <td>0</td>\n",
       "      <td>1</td>\n",
       "      <td>1</td>\n",
       "      <td>0</td>\n",
       "      <td>0</td>\n",
       "      <td>1</td>\n",
       "    </tr>\n",
       "    <tr>\n",
       "      <th>4</th>\n",
       "      <td>-Andres Galarraga</td>\n",
       "      <td>321</td>\n",
       "      <td>87</td>\n",
       "      <td>10</td>\n",
       "      <td>39</td>\n",
       "      <td>42</td>\n",
       "      <td>30</td>\n",
       "      <td>2</td>\n",
       "      <td>396</td>\n",
       "      <td>101</td>\n",
       "      <td>...</td>\n",
       "      <td>805</td>\n",
       "      <td>40</td>\n",
       "      <td>4</td>\n",
       "      <td>91.5</td>\n",
       "      <td>0</td>\n",
       "      <td>1</td>\n",
       "      <td>1</td>\n",
       "      <td>0</td>\n",
       "      <td>0</td>\n",
       "      <td>1</td>\n",
       "    </tr>\n",
       "    <tr>\n",
       "      <th>5</th>\n",
       "      <td>-Alfredo Griffin</td>\n",
       "      <td>594</td>\n",
       "      <td>169</td>\n",
       "      <td>4</td>\n",
       "      <td>74</td>\n",
       "      <td>51</td>\n",
       "      <td>35</td>\n",
       "      <td>11</td>\n",
       "      <td>4408</td>\n",
       "      <td>1133</td>\n",
       "      <td>...</td>\n",
       "      <td>282</td>\n",
       "      <td>421</td>\n",
       "      <td>25</td>\n",
       "      <td>750.0</td>\n",
       "      <td>1</td>\n",
       "      <td>0</td>\n",
       "      <td>0</td>\n",
       "      <td>1</td>\n",
       "      <td>1</td>\n",
       "      <td>0</td>\n",
       "    </tr>\n",
       "  </tbody>\n",
       "</table>\n",
       "<p>5 rows × 24 columns</p>\n",
       "</div>"
      ],
      "text/plain": [
       "          Unnamed: 0  AtBat  Hits  HmRun  Runs  RBI  Walks  Years  CAtBat  \\\n",
       "1        -Alan Ashby    315    81      7    24   38     39     14    3449   \n",
       "2       -Alvin Davis    479   130     18    66   72     76      3    1624   \n",
       "3      -Andre Dawson    496   141     20    65   78     37     11    5628   \n",
       "4  -Andres Galarraga    321    87     10    39   42     30      2     396   \n",
       "5   -Alfredo Griffin    594   169      4    74   51     35     11    4408   \n",
       "\n",
       "   CHits  ...  PutOuts  Assists  Errors  Salary  League_A  League_N  \\\n",
       "1    835  ...      632       43      10   475.0         0         1   \n",
       "2    457  ...      880       82      14   480.0         1         0   \n",
       "3   1575  ...      200       11       3   500.0         0         1   \n",
       "4    101  ...      805       40       4    91.5         0         1   \n",
       "5   1133  ...      282      421      25   750.0         1         0   \n",
       "\n",
       "   Division_E  Division_W  NewLeague_A  NewLeague_N  \n",
       "1           0           1            0            1  \n",
       "2           0           1            1            0  \n",
       "3           1           0            0            1  \n",
       "4           1           0            0            1  \n",
       "5           0           1            1            0  \n",
       "\n",
       "[5 rows x 24 columns]"
      ]
     },
     "execution_count": 9,
     "metadata": {},
     "output_type": "execute_result"
    }
   ],
   "source": [
    "# another thing to notice is that there are a few qualitative predictors in the data set. We \n",
    "# we have to convert them into numerical data\n",
    "qual = [\"League\", \"Division\", \"NewLeague\"]\n",
    "hitters = pd.get_dummies(hitters, columns = qual)\n",
    "hitters.head()"
   ]
  },
  {
   "cell_type": "markdown",
   "metadata": {},
   "source": [
    "now that we have preprocessed the data to certain extents, it is time to perform various \n",
    "subset selection methods on it\n",
    "\n",
    "# Best subset Selection"
   ]
  },
  {
   "cell_type": "code",
   "execution_count": 11,
   "metadata": {},
   "outputs": [],
   "source": [
    "import statsmodels.api as sm\n",
    "import statsmodels.formula.api as smf\n",
    "import patsy\n",
    "import itertools\n",
    "from sklearn import linear_model\n",
    "from sklearn.model_selection import KFold"
   ]
  },
  {
   "cell_type": "code",
   "execution_count": 16,
   "metadata": {},
   "outputs": [],
   "source": [
    "def getDifferentModels(k, x, y):\n",
    "    '''\n",
    "    We have to fit all the models that contain exactly k predictors out of the total \n",
    "    p predictors\n",
    "    '''\n",
    "    #PCk: P combination k\n",
    "    combinations = itertools.combinations(list(x.columns), k) #picking k predictors out of p\n",
    "    model_list = []\n",
    "    for combo in combinations:\n",
    "        x_smf = \"+\".join(combo)\n",
    "        f = \"Salary ~ {}\".format(x_smf)\n",
    "        #time to fit the model\n",
    "        model = smf.ols(formula = f, data = pd.concat([x,y], axis = 1)).fit()\n",
    "        model_list.append((f, model))\n",
    "    return model_list\n",
    "\n",
    "def min_rss(statsmodels):\n",
    "    \"Return the model with the lowest RSS\"\n",
    "    return sorted(statsmodels, key = lambda tup: tup[1].ssr)[0]\n",
    "\n",
    "def max_adjr2(statsmodels):\n",
    "    \"Return model with highest adjusted r^2\"\n",
    "    return sorted(statsmodels, reverse = True, key = lambda tup: tup[1].rsquared_adj)[0]\n",
    "\n",
    "\n",
    "    "
   ]
  },
  {
   "cell_type": "code",
   "execution_count": 17,
   "metadata": {},
   "outputs": [
    {
     "name": "stdout",
     "output_type": "stream",
     "text": [
      "('Salary ~ Hits+CRBI', <statsmodels.regression.linear_model.RegressionResultsWrapper object at 0x1c222c4278>)\n",
      "('Salary ~ Hits+CRBI', <statsmodels.regression.linear_model.RegressionResultsWrapper object at 0x1c222c4278>)\n"
     ]
    }
   ],
   "source": [
    "#lets just test it for 2 predictors right now\n",
    "x = hitters.drop(\"Salary\", axis = 1)\n",
    "y = hitters[\"Salary\"]\n",
    "\n",
    "#get all the possible models\n",
    "subset = getDifferentModels(2, x, y)\n",
    "print(min_rss(subset))\n",
    "print(max_adjr2(subset))"
   ]
  },
  {
   "cell_type": "code",
   "execution_count": 20,
   "metadata": {},
   "outputs": [
    {
     "name": "stdout",
     "output_type": "stream",
     "text": [
      "done:  1\n",
      "done:  2\n",
      "done:  3\n",
      "done:  4\n",
      "done:  5\n",
      "done:  6\n",
      "done:  7\n",
      "done:  8\n",
      "done:  9\n",
      "done:  10\n",
      "done:  11\n",
      "done:  12\n",
      "done:  13\n",
      "done:  14\n"
     ]
    }
   ],
   "source": [
    "# cant actually run the combinations for all values of k fro 1 to 22 on my laptop as it will\n",
    "#die :p\n",
    "x = hitters.loc[:, \"AtBat\" : \"PutOuts\"]\n",
    "\n",
    "models = []\n",
    "for k in np.arange(len(x.columns)):\n",
    "    k = k + 1\n",
    "    subset = getDifferentModels(k, x, y)\n",
    "    models.append(subset)\n",
    "    print(\"done: \", k)"
   ]
  },
  {
   "cell_type": "code",
   "execution_count": 24,
   "metadata": {},
   "outputs": [
    {
     "data": {
      "image/png": "[encoded data removed]",
      "text/plain": [
       "<Figure size 432x288 with 1 Axes>"
      ]
     },
     "metadata": {
      "needs_background": "light"
     },
     "output_type": "display_data"
    },
    {
     "data": {
      "image/png": "[encoded data removed]",
      "text/plain": [
       "<Figure size 432x288 with 1 Axes>"
      ]
     },
     "metadata": {
      "needs_background": "light"
     },
     "output_type": "display_data"
    }
   ],
   "source": [
    "rss = [min_rss(m)[1].ssr for m in models]\n",
    "adjr2 = [max_adjr2(m)[1].rsquared_adj for m in models]\n",
    "k = np.arange(1, 1 + len(rss))\n",
    "\n",
    "ax = sns.lineplot(x = k, y = rss)\n",
    "plt.xlabel(\"k\")\n",
    "plt.ylabel(\"rss\")\n",
    "plt.show()\n",
    "\n",
    "ax = sns.lineplot(x = k, y = adjr2)\n",
    "plt.xlabel(\"k\")\n",
    "plt.ylabel(\"adjr2\")\n",
    "plt.show()"
   ]
  },
  {
   "cell_type": "code",
   "execution_count": 26,
   "metadata": {},
   "outputs": [
    {
     "name": "stdout",
     "output_type": "stream",
     "text": [
      "['AtBat', 'Hits', 'Walks', 'CRuns', 'CWalks', 'PutOuts']\n"
     ]
    }
   ],
   "source": [
    "#now let us look at some individual models\n",
    "best_subset_6 = list(min_rss(models[5])[1].params.index)[1:]\n",
    "print(best_subset_6)"
   ]
  },
  {
   "cell_type": "markdown",
   "metadata": {},
   "source": [
    "# Forward and Backward Selection"
   ]
  },
  {
   "cell_type": "code",
   "execution_count": 42,
   "metadata": {},
   "outputs": [],
   "source": [
    "def scale(df):\n",
    "    return (df - df.mean()) / (df.std())\n",
    "\n",
    "def forwardStepwise(x, y, results = [(0, [])]): #starting from a null model\n",
    "    p = list(x.columns)\n",
    "    p_used = results[-1][1]\n",
    "    p_unused = [i for i in p if i not in p_used]\n",
    "    \n",
    "    if not p_unused:\n",
    "        rss = [r[0] for r in results]\n",
    "        preds = [r[1] for r in results]\n",
    "        return pd.DataFrame({\"rss\": rss, \"predictors\": preds}).drop(0).reset_index()\n",
    "    \n",
    "    r = []\n",
    "    for i in p_unused:\n",
    "        f = \"Salary ~ {}\".format(\"+\".join([i] + p_used))\n",
    "        #time to fit the model\n",
    "        model = smf.ols(formula = f, data = pd.concat([x,y], axis = 1)).fit()\n",
    "        r.append((model.ssr, [i]+p_used))\n",
    "    #time to choose the predictor which results in the lowest ssr\n",
    "    min_rss = sorted(r, key=lambda tup:tup[0])[0]\n",
    "    new_results = results + [min_rss]\n",
    "    #recursive call\n",
    "    return forwardStepwise(x,y, new_results)\n",
    "\n",
    "def backwardStepwise(x, y, results = []): \n",
    "    p_all = list(x.columns)\n",
    "    \n",
    "    if not results:\n",
    "        f = \"Salary ~ {}\".format(\"+\".join(p_all))\n",
    "        model = smf.ols(formula = f, data = pd.concat([x,y], axis = 1)).fit()\n",
    "        return backwardStepwise(x,y, [(model.ssr, p_all)])\n",
    "    else:\n",
    "        p_used = results[-1][1]\n",
    "    \n",
    "    if len(p_used) == 1:\n",
    "        rss = [r[0] for r in results]\n",
    "        preds = [r[1] for r in results] \n",
    "        return pd.DataFrame({\"rss\": rss, \"predictors\": preds})\n",
    "    \n",
    "    r = []\n",
    "    for p in p_used:\n",
    "        p_test = [i for i in p_used if i != p]\n",
    "        f = \"Salary ~ {}\".format(\"+\".join(p_test))\n",
    "        model = smf.ols(formula = f, data = pd.concat([x,y], axis = 1)).fit()\n",
    "        r.append((model.ssr, p_test))\n",
    "    \n",
    "    min_rss = sorted(r, key=lambda tup:tup[0])[0]\n",
    "    new_results = results + [min_rss]\n",
    "    #recursive call\n",
    "    return backwardStepwise(x,y, new_results)"
   ]
  },
  {
   "cell_type": "code",
   "execution_count": 30,
   "metadata": {},
   "outputs": [],
   "source": [
    "x = scale(hitters.loc[:, \"AtBat\" : \"PutOuts\"])\n",
    "backward = backwardStepwise(x,y)"
   ]
  },
  {
   "cell_type": "code",
   "execution_count": 34,
   "metadata": {},
   "outputs": [
    {
     "name": "stdout",
     "output_type": "stream",
     "text": [
      "             rss                                         predictors\n",
      "0   2.550169e+07  [AtBat, Hits, HmRun, Runs, RBI, Walks, Years, ...\n",
      "1   2.550170e+07  [AtBat, Hits, HmRun, Runs, Walks, Years, CAtBa...\n",
      "2   2.550319e+07  [AtBat, Hits, Runs, Walks, Years, CAtBat, CHit...\n",
      "3   2.550552e+07  [AtBat, Hits, Runs, Walks, Years, CAtBat, CHmR...\n",
      "4   2.551233e+07  [AtBat, Hits, Runs, Walks, Years, CAtBat, CRun...\n",
      "5   2.552857e+07  [AtBat, Hits, Runs, Walks, CAtBat, CRuns, CRBI...\n",
      "6   2.565678e+07  [AtBat, Hits, Walks, CAtBat, CRuns, CRBI, CWal...\n",
      "7   2.614246e+07  [AtBat, Hits, Walks, CRuns, CRBI, CWalks, PutO...\n",
      "8   2.680370e+07       [AtBat, Hits, Walks, CRuns, CWalks, PutOuts]\n",
      "9   2.750952e+07               [AtBat, Hits, Walks, CRuns, PutOuts]\n",
      "10  2.845081e+07                      [AtBat, Hits, CRuns, PutOuts]\n",
      "11  2.940730e+07                             [Hits, CRuns, PutOuts]\n",
      "12  3.120346e+07                                      [Hits, CRuns]\n",
      "13  3.643795e+07                                            [CRuns]\n"
     ]
    }
   ],
   "source": [
    "print(backward)"
   ]
  },
  {
   "cell_type": "code",
   "execution_count": 43,
   "metadata": {},
   "outputs": [
    {
     "name": "stdout",
     "output_type": "stream",
     "text": [
      "    index           rss                                         predictors\n",
      "0       1  3.617968e+07                                             [CRBI]\n",
      "1       2  3.064656e+07                                       [Hits, CRBI]\n",
      "2       3  2.924930e+07                              [PutOuts, Hits, CRBI]\n",
      "3       4  2.823936e+07                       [AtBat, PutOuts, Hits, CRBI]\n",
      "4       5  2.717042e+07                [Walks, AtBat, PutOuts, Hits, CRBI]\n",
      "5       6  2.699220e+07        [CWalks, Walks, AtBat, PutOuts, Hits, CRBI]\n",
      "6       7  2.614246e+07  [CRuns, CWalks, Walks, AtBat, PutOuts, Hits, C...\n",
      "7       8  2.565678e+07  [CAtBat, CRuns, CWalks, Walks, AtBat, PutOuts,...\n",
      "8       9  2.552857e+07  [Runs, CAtBat, CRuns, CWalks, Walks, AtBat, Pu...\n",
      "9      10  2.551233e+07  [Years, Runs, CAtBat, CRuns, CWalks, Walks, At...\n",
      "10     11  2.550552e+07  [CHmRun, Years, Runs, CAtBat, CRuns, CWalks, W...\n",
      "11     12  2.550319e+07  [CHits, CHmRun, Years, Runs, CAtBat, CRuns, CW...\n",
      "12     13  2.550170e+07  [HmRun, CHits, CHmRun, Years, Runs, CAtBat, CR...\n",
      "13     14  2.550169e+07  [RBI, HmRun, CHits, CHmRun, Years, Runs, CAtBa...\n"
     ]
    }
   ],
   "source": [
    "forward = forwardStepwise(x,y)\n",
    "print(forward)"
   ]
  },
  {
   "cell_type": "code",
   "execution_count": 44,
   "metadata": {},
   "outputs": [
    {
     "name": "stdout",
     "output_type": "stream",
     "text": [
      "BestSubSet Selection:  ['AtBat', 'CRuns', 'CWalks', 'Hits', 'PutOuts', 'Walks']\n",
      "ForwardStepwise Selection:  ['AtBat', 'CRBI', 'CWalks', 'Hits', 'PutOuts', 'Walks']\n",
      "BackwardStepwise Selection:  ['AtBat', 'CRuns', 'CWalks', 'Hits', 'PutOuts', 'Walks']\n"
     ]
    }
   ],
   "source": [
    "#let us look at the situation where 6 predictors are in play\n",
    "print(\"BestSubSet Selection: \" , sorted(best_subset_6))\n",
    "print(\"ForwardStepwise Selection: \" , sorted(forward.loc[5]['predictors']))\n",
    "print(\"BackwardStepwise Selection: \" , sorted(backward.loc[8]['predictors']))"
   ]
  },
  {
   "cell_type": "markdown",
   "metadata": {},
   "source": [
    "As noticed from the above results, backward selection and best subset have the same results, while forward stepwise has just one different result. Therefore it is safe to say that the backward stepwise selection looks like the best approach as it makes the same optimal selection as best subset selection but with significantly lower computational cost"
   ]
  },
  {
   "cell_type": "markdown",
   "metadata": {},
   "source": [
    "# Cross-Validation Attempt"
   ]
  },
  {
   "cell_type": "code",
   "execution_count": 45,
   "metadata": {},
   "outputs": [],
   "source": [
    "def mse(y_hat, y):\n",
    "    return np.sum(np.square(y_hat - y)) / y.size"
   ]
  },
  {
   "cell_type": "code",
   "execution_count": 152,
   "metadata": {},
   "outputs": [],
   "source": [
    "def cross_val(formula, x, y, k):\n",
    "    x_fold = np.array_split(x, k)\n",
    "    y_fold = np.array_split(y, k)\n",
    "    \n",
    "    MSE = []\n",
    "    for f in np.arange(0, len(x_fold)):\n",
    "        x_test = x_fold[f]\n",
    "        y_test = y_fold[f]\n",
    "        x_train = x.drop(x_fold[f].index)\n",
    "        y_train = y.drop(y_fold[f].index)\n",
    "        #fit the model\n",
    "        #x_train['Salary'] = y_train\n",
    "        #print(pd.concat([x_train, y_train], axis=1).astype(int).sum())\n",
    "        #print(pd.concat([x_train, y_train], axis=1).astype(int).info())\n",
    "        model = smf.ols(formula = formula, data = pd.concat([x_train, y_train], axis=1)).fit()\n",
    "        y_hat = model.predict(x_test)\n",
    "        MSE.append(mse(y_hat, y_test))\n",
    "    return (MSE, formula)\n",
    "\n"
   ]
  },
  {
   "cell_type": "code",
   "execution_count": null,
   "metadata": {},
   "outputs": [],
   "source": [
    "x = hitters.loc[:, \"AtBat\" : \"PutOuts\"]\n",
    "results = []\n",
    "for model in models:\n",
    "    results.append(cross_val(model[0], x, y, 10))\n",
    "\n",
    "df = pd.DataFrame({\"predictors\": list(np.arange(1, 15)),\n",
    "                  \"MSE_MEAN\" : [np.mean(i[0] for  i in results)],\n",
    "                  \"MSE FOLDS\": [i[0] for i in results],\n",
    "                  \"Model\": [i[1] for i in results]})"
   ]
  },
  {
   "cell_type": "code",
   "execution_count": 150,
   "metadata": {},
   "outputs": [
    {
     "name": "stdout",
     "output_type": "stream",
     "text": [
      "             rss                                         predictors  \\\n",
      "0   2.420070e+07  [Unnamed: 0, AtBat, Hits, HmRun, Runs, RBI, Wa...   \n",
      "1   2.420070e+07  [Unnamed: 0, AtBat, Hits, HmRun, Runs, RBI, Wa...   \n",
      "2   2.420070e+07  [AtBat, Hits, HmRun, Runs, RBI, Walks, Years, ...   \n",
      "3   2.420070e+07  [AtBat, Hits, HmRun, Runs, RBI, Walks, Years, ...   \n",
      "4   2.420070e+07  [AtBat, Hits, HmRun, Runs, RBI, Walks, Years, ...   \n",
      "5   2.420184e+07  [AtBat, Hits, HmRun, Runs, RBI, Walks, Years, ...   \n",
      "6   2.420945e+07  [AtBat, Hits, HmRun, Runs, RBI, Walks, CAtBat,...   \n",
      "7   2.421938e+07  [AtBat, Hits, HmRun, Runs, RBI, Walks, CAtBat,...   \n",
      "8   2.423518e+07  [AtBat, Hits, HmRun, Runs, Walks, CAtBat, CHit...   \n",
      "9   2.424866e+07  [AtBat, Hits, HmRun, Runs, Walks, CAtBat, CRun...   \n",
      "10  2.428915e+07  [AtBat, Hits, Runs, Walks, CAtBat, CRuns, CRBI...   \n",
      "11  2.433323e+07  [AtBat, Hits, Runs, Walks, CAtBat, CRuns, CRBI...   \n",
      "12  2.438735e+07  [AtBat, Hits, Walks, CAtBat, CRuns, CRBI, CWal...   \n",
      "13  2.450040e+07  [AtBat, Hits, Walks, CAtBat, CRuns, CRBI, CWal...   \n",
      "14  2.481405e+07  [AtBat, Hits, Walks, CAtBat, CRuns, CRBI, CWal...   \n",
      "15  2.515923e+07  [AtBat, Hits, Walks, CRuns, CRBI, CWalks, PutO...   \n",
      "16  2.593349e+07  [AtBat, Hits, Walks, CRuns, CWalks, PutOuts, D...   \n",
      "17  2.667409e+07   [AtBat, Hits, Walks, CRuns, PutOuts, Division_W]   \n",
      "18  2.750952e+07               [AtBat, Hits, Walks, CRuns, PutOuts]   \n",
      "19  2.845081e+07                      [AtBat, Hits, CRuns, PutOuts]   \n",
      "20  2.940730e+07                             [Hits, CRuns, PutOuts]   \n",
      "21  3.120346e+07                                      [Hits, CRuns]   \n",
      "22  3.643795e+07                                            [CRuns]   \n",
      "\n",
      "    predictor_count  \n",
      "0                 0  \n",
      "1                 1  \n",
      "2                 2  \n",
      "3                 3  \n",
      "4                 4  \n",
      "5                 5  \n",
      "6                 6  \n",
      "7                 7  \n",
      "8                 8  \n",
      "9                 9  \n",
      "10               10  \n",
      "11               11  \n",
      "12               12  \n",
      "13               13  \n",
      "14               14  \n",
      "15               15  \n",
      "16               16  \n",
      "17               17  \n",
      "18               18  \n",
      "19               19  \n",
      "20               20  \n",
      "21               21  \n",
      "22               22  \n"
     ]
    },
    {
     "data": {
      "text/plain": [
       "<matplotlib.axes._subplots.AxesSubplot at 0x1c54080d30>"
      ]
     },
     "execution_count": 150,
     "metadata": {},
     "output_type": "execute_result"
    },
    {
     "data": {
      "image/png": "[encoded data removed]",
      "text/plain": [
       "<Figure size 432x288 with 1 Axes>"
      ]
     },
     "metadata": {
      "needs_background": "light"
     },
     "output_type": "display_data"
    }
   ],
   "source": [
    "#trying out backward stepwise selection on all the features\n",
    "X = hitters.drop('Salary', axis=1)\n",
    "y = hitters['Salary']\n",
    "\n",
    "backward_stepwise_subsets = backwardStepwise(X, y)\n",
    "backward_stepwise_subsets['predictor_count'] = np.arange(0, 23)\n",
    "#display(backward_stepwise_subsets)\n",
    "print(backward_stepwise_subsets)\n",
    "sns.lineplot(x='predictor_count', y='rss', data=backward_stepwise_subsets)"
   ]
  },
  {
   "cell_type": "code",
   "execution_count": 153,
   "metadata": {},
   "outputs": [
    {
     "name": "stdout",
     "output_type": "stream",
     "text": [
      "    predictors       MSE_mean  \\\n",
      "0            1  116599.013674   \n",
      "1            2  116599.013674   \n",
      "2            3  116599.013674   \n",
      "3            4  116599.013674   \n",
      "4            5  116599.013674   \n",
      "5            6  114963.338465   \n",
      "6            7  113635.830694   \n",
      "7            8  112921.381689   \n",
      "8            9  111081.510651   \n",
      "9           10  110333.364753   \n",
      "10          11  109979.410931   \n",
      "11          12  109465.608056   \n",
      "12          13  108361.210922   \n",
      "13          14  108080.651150   \n",
      "14          15  106618.881999   \n",
      "15          16  107458.440564   \n",
      "16          17  110072.974721   \n",
      "17          18  111600.002770   \n",
      "18          19  114825.616417   \n",
      "19          20  118903.869957   \n",
      "20          21  121665.135093   \n",
      "21          22  127363.032055   \n",
      "22          23  144100.590668   \n",
      "\n",
      "                                            MSE_folds  \\\n",
      "0   [109666.777009825, 37953.391756388715, 156572....   \n",
      "1   [109666.77700982467, 37953.39175638833, 156572...   \n",
      "2   [109666.77700982467, 37953.39175638833, 156572...   \n",
      "3   [109666.77700982502, 37953.391756388555, 15657...   \n",
      "4   [109666.777009825, 37953.39175638857, 156572.0...   \n",
      "5   [108403.40077544522, 36671.654780635494, 15623...   \n",
      "6   [103548.97896421522, 34980.61934074382, 156343...   \n",
      "7   [103109.24440272465, 35032.07078000694, 155352...   \n",
      "8   [103134.03455700412, 35026.97778052102, 155606...   \n",
      "9   [98326.25400454787, 35152.30612149254, 155838....   \n",
      "10  [95894.57297758799, 35826.83203221347, 155992....   \n",
      "11  [95474.56130641924, 36674.05253166977, 155314....   \n",
      "12  [96478.69537945797, 37028.22102864185, 156381....   \n",
      "13  [95668.93613092588, 38005.3532605013, 157372.4...   \n",
      "14  [94639.91163274275, 40255.25372375629, 160138....   \n",
      "15  [102234.83312594146, 44434.3360053928, 167235....   \n",
      "16  [93818.13946902656, 44682.17006469622, 183278....   \n",
      "17  [60065.57347320864, 51405.12237311822, 197485....   \n",
      "18  [59641.61586843947, 42937.47973254201, 202202....   \n",
      "19  [62757.32659627064, 45045.26338550094, 200078....   \n",
      "20  [63353.793665842975, 40682.828845045886, 21475...   \n",
      "21  [54080.259651755165, 40412.1288381487, 241637....   \n",
      "22  [43851.510692018775, 75280.33764810773, 317903...   \n",
      "\n",
      "                                                Model  \n",
      "0   Salary ~ Unnamed: 0 + AtBat + Hits + HmRun + R...  \n",
      "1   Salary ~ Unnamed: 0 + AtBat + Hits + HmRun + R...  \n",
      "2   Salary ~ AtBat + Hits + HmRun + Runs + RBI + W...  \n",
      "3   Salary ~ AtBat + Hits + HmRun + Runs + RBI + W...  \n",
      "4   Salary ~ AtBat + Hits + HmRun + Runs + RBI + W...  \n",
      "5   Salary ~ AtBat + Hits + HmRun + Runs + RBI + W...  \n",
      "6   Salary ~ AtBat + Hits + HmRun + Runs + RBI + W...  \n",
      "7   Salary ~ AtBat + Hits + HmRun + Runs + RBI + W...  \n",
      "8   Salary ~ AtBat + Hits + HmRun + Runs + Walks +...  \n",
      "9   Salary ~ AtBat + Hits + HmRun + Runs + Walks +...  \n",
      "10  Salary ~ AtBat + Hits + Runs + Walks + CAtBat ...  \n",
      "11  Salary ~ AtBat + Hits + Runs + Walks + CAtBat ...  \n",
      "12  Salary ~ AtBat + Hits + Walks + CAtBat + CRuns...  \n",
      "13  Salary ~ AtBat + Hits + Walks + CAtBat + CRuns...  \n",
      "14  Salary ~ AtBat + Hits + Walks + CAtBat + CRuns...  \n",
      "15  Salary ~ AtBat + Hits + Walks + CRuns + CRBI +...  \n",
      "16  Salary ~ AtBat + Hits + Walks + CRuns + CWalks...  \n",
      "17  Salary ~ AtBat + Hits + Walks + CRuns + PutOut...  \n",
      "18    Salary ~ AtBat + Hits + Walks + CRuns + PutOuts  \n",
      "19            Salary ~ AtBat + Hits + CRuns + PutOuts  \n",
      "20                    Salary ~ Hits + CRuns + PutOuts  \n",
      "21                              Salary ~ Hits + CRuns  \n",
      "22                                     Salary ~ CRuns  \n"
     ]
    },
    {
     "data": {
      "text/plain": [
       "<matplotlib.axes._subplots.AxesSubplot at 0x1c53f47e10>"
      ]
     },
     "execution_count": 153,
     "metadata": {},
     "output_type": "execute_result"
    },
    {
     "data": {
      "image/png": "[encoded data removed]",
      "text/plain": [
       "<Figure size 432x288 with 1 Axes>"
      ]
     },
     "metadata": {
      "needs_background": "light"
     },
     "output_type": "display_data"
    }
   ],
   "source": [
    "# Perform cross validation for each subset of predictors\n",
    "results = []\n",
    "for preds in backward_stepwise_subsets['predictors']:\n",
    "    f = 'Salary ~ {}'.format(' + '.join(preds))\n",
    "    results.append(cross_val(f, X.drop(\"Unnamed: 0\", axis = 1), y, 10))\n",
    "\n",
    "results_b_df = pd.DataFrame({'predictors': list(np.arange(1, len(results)+1)),\n",
    "                           'MSE_mean': [np.mean(i[0]) for i in results],\n",
    "                           'MSE_folds': [i[0] for i in results],\n",
    "                           'Model': [i[1] for i in results]})\n",
    "print(results_b_df)\n",
    "sns.lineplot(x='predictors', y='MSE_mean', data=results_b_df)"
   ]
  },
  {
   "cell_type": "markdown",
   "metadata": {},
   "source": [
    "# Ridge Regression and the Lasso"
   ]
  },
  {
   "cell_type": "code",
   "execution_count": 154,
   "metadata": {},
   "outputs": [],
   "source": [
    "def ridge_cv(X, y, l , k):\n",
    "    X_folds = np.array_split(X, k)\n",
    "    y_folds = np.array_split(y, k)\n",
    "    \n",
    "    MSEs = []\n",
    "    for f in np.arange(len(X_folds)):\n",
    "        # Create training and test sets\n",
    "        X_test  = X_folds[f]\n",
    "        y_test  = y_folds[f]\n",
    "        X_train = X.drop(X_folds[f].index)\n",
    "        y_train = y.drop(y_folds[f].index)\n",
    "        \n",
    "        # Fit model\n",
    "        model = linear_model.Ridge(alpha=l, fit_intercept=False, solver='cholesky').fit(X_train, y_train)\n",
    "        \n",
    "        # Measure MSE\n",
    "        y_hat = model.predict(X_test)\n",
    "        MSEs.append(mse(y_hat, y_test))\n",
    "    return MSEs"
   ]
  },
  {
   "cell_type": "code",
   "execution_count": 156,
   "metadata": {},
   "outputs": [
    {
     "data": {
      "text/plain": [
       "<matplotlib.axes._subplots.AxesSubplot at 0x1c54436dd8>"
      ]
     },
     "execution_count": 156,
     "metadata": {},
     "output_type": "execute_result"
    },
    {
     "data": {
      "image/png": "[encoded data removed]",
      "text/plain": [
       "<Figure size 432x288 with 1 Axes>"
      ]
     },
     "metadata": {
      "needs_background": "light"
     },
     "output_type": "display_data"
    }
   ],
   "source": [
    "X = hitters.drop('Salary', axis=1)\n",
    "y = hitters['Salary']\n",
    "\n",
    "lambdas = np.arange(1, 300, 1)\n",
    "MSEs    = [] \n",
    "for l in lambdas:\n",
    "    MSEs.append(np.mean(ridge_cv(X.drop(\"Unnamed: 0\", axis = 1), y, l, k=10)))\n",
    "\n",
    "sns.scatterplot(x='λ', y='MSE', data=pd.DataFrame({'λ': lambdas, 'MSE': MSEs}))"
   ]
  },
  {
   "cell_type": "code",
   "execution_count": 157,
   "metadata": {},
   "outputs": [
    {
     "data": {
      "text/plain": [
       "(114903.19824046257, 53)"
      ]
     },
     "execution_count": 157,
     "metadata": {},
     "output_type": "execute_result"
    }
   ],
   "source": [
    "min(zip(MSEs, lambdas))"
   ]
  },
  {
   "cell_type": "code",
   "execution_count": 160,
   "metadata": {},
   "outputs": [
    {
     "name": "stdout",
     "output_type": "stream",
     "text": [
      "        feature  coefficient\n",
      "0         AtBat    -1.794660\n",
      "1          Hits     7.288001\n",
      "2         HmRun     3.626469\n",
      "3          Runs    -2.356676\n",
      "4           RBI    -0.843838\n",
      "5         Walks     6.190308\n",
      "6         Years     4.445694\n",
      "7        CAtBat    -0.187145\n",
      "8         CHits     0.111156\n",
      "9        CHmRun    -0.206063\n",
      "10        CRuns     1.511644\n",
      "11         CRBI     0.795503\n",
      "12       CWalks    -0.786855\n",
      "13      PutOuts     0.288676\n",
      "14      Assists     0.331803\n",
      "15       Errors    -2.141267\n",
      "16     League_A    -2.588049\n",
      "17     League_N    27.207012\n",
      "18   Division_E    52.645001\n",
      "19   Division_W   -28.026038\n",
      "20  NewLeague_A     9.898640\n",
      "21  NewLeague_N    14.720322\n"
     ]
    },
    {
     "data": {
      "image/png": "[encoded data removed]",
      "text/plain": [
       "<Figure size 432x288 with 1 Axes>"
      ]
     },
     "metadata": {
      "needs_background": "light"
     },
     "output_type": "display_data"
    }
   ],
   "source": [
    "# as it was obvious, we performed k-fold cross validation in order to find the optimum value\n",
    "# of lambda, the tuning parameter. Why is slecting a good value of lambda important? well\n",
    "# because each value of lambda will give a different set of coefficients and as lambda approaches\n",
    "# infinity, the coeffiecients shrink towards zero.\n",
    "\n",
    "#let us now have a look at the coefficients which ridge regression has chosen for each\n",
    "#predictor\n",
    "model = linear_model.Ridge(alpha = 53, fit_intercept = False, solver=\"cholesky\").fit(X.drop(\"Unnamed: 0\", axis = 1), y) \n",
    "df = pd.DataFrame({\"feature\" : X.drop(\"Unnamed: 0\", axis = 1).columns, \"coefficient\" : model.coef_})\n",
    "ax = sns.barplot(x = 'coefficient', y = 'feature', data = df)\n",
    "plt.xticks(rotation = 90)\n",
    "print(df)"
   ]
  },
  {
   "cell_type": "code",
   "execution_count": 161,
   "metadata": {},
   "outputs": [],
   "source": [
    "# let us now do a cross validation for finding out the alpha for the lasso\n",
    "def lasso_cv(x, y, l, k):\n",
    "    x_folds = np.array_split(x, k)\n",
    "    y_folds = np.array_split(y, k)\n",
    "    MSE = []\n",
    "    for i in np.arange(len(x_folds)):\n",
    "        x_test = x_folds[i]\n",
    "        y_test = y_folds[i]\n",
    "        x_train = x.drop(x_folds[i].index)\n",
    "        y_train = y.drop(y_folds[i].index)\n",
    "        model = linear_model.Lasso(alpha = l, copy_X = True, fit_intercept = False,\n",
    "                                  max_iter = 10000, normalize = False, positive = False,\n",
    "                                  precompute = False, random_state =None, selection = 'cyclic',\n",
    "                                  tol = 0.0001, warm_start = False).fit(x_train, y_train)\n",
    "        y_hat = model.predict(x_test)\n",
    "        MSE.append(mse(y_hat, y_test))\n",
    "    return MSE"
   ]
  },
  {
   "cell_type": "code",
   "execution_count": 163,
   "metadata": {},
   "outputs": [
    {
     "data": {
      "text/plain": [
       "<matplotlib.axes._subplots.AxesSubplot at 0x1c55c6f780>"
      ]
     },
     "execution_count": 163,
     "metadata": {},
     "output_type": "execute_result"
    },
    {
     "data": {
      "image/png": "[encoded data removed]",
      "text/plain": [
       "<Figure size 432x288 with 1 Axes>"
      ]
     },
     "metadata": {
      "needs_background": "light"
     },
     "output_type": "display_data"
    }
   ],
   "source": [
    "lambdas = np.arange(1,300,1)\n",
    "MSE = []\n",
    "for l in lambdas:\n",
    "    MSE.append(np.mean(lasso_cv(X.drop(\"Unnamed: 0\", axis = 1), y, l, k = 10)))\n",
    "\n",
    "sns.scatterplot(x = \"lambda\", y = \"MSE\", data = pd.DataFrame({\"lambda\": lambdas, \"MSE\": MSE}))"
   ]
  },
  {
   "cell_type": "code",
   "execution_count": 165,
   "metadata": {},
   "outputs": [
    {
     "data": {
      "text/plain": [
       "(113299.42601088567, 126)"
      ]
     },
     "execution_count": 165,
     "metadata": {},
     "output_type": "execute_result"
    }
   ],
   "source": [
    "min(zip(MSE, lambdas))"
   ]
  },
  {
   "cell_type": "code",
   "execution_count": 166,
   "metadata": {},
   "outputs": [
    {
     "name": "stdout",
     "output_type": "stream",
     "text": [
      "        feature  coefficient\n",
      "0         AtBat    -1.275521\n",
      "1          Hits     5.018893\n",
      "2         HmRun     0.000000\n",
      "3          Runs    -0.000000\n",
      "4           RBI     0.000000\n",
      "5         Walks     4.513408\n",
      "6         Years     0.000000\n",
      "7        CAtBat    -0.205982\n",
      "8         CHits     0.350804\n",
      "9        CHmRun     0.000000\n",
      "10        CRuns     1.119450\n",
      "11         CRBI     0.687998\n",
      "12       CWalks    -0.513003\n",
      "13      PutOuts     0.293758\n",
      "14      Assists     0.223030\n",
      "15       Errors    -0.000000\n",
      "16     League_A    -0.000000\n",
      "17     League_N     0.000000\n",
      "18   Division_E     0.000000\n",
      "19   Division_W    -0.000000\n",
      "20  NewLeague_A    -0.000000\n",
      "21  NewLeague_N     0.000000\n"
     ]
    },
    {
     "data": {
      "image/png": "[encoded data removed]",
      "text/plain": [
       "<Figure size 432x288 with 1 Axes>"
      ]
     },
     "metadata": {
      "needs_background": "light"
     },
     "output_type": "display_data"
    }
   ],
   "source": [
    "#similar to last time, let us look at how the coefficients have been estimated by the\n",
    "#lasso\n",
    "model = linear_model.Lasso(alpha=126, copy_X=True, fit_intercept=False, max_iter=10000,\n",
    "                           normalize=False, positive=False, precompute=False, random_state=None,\n",
    "                           selection='cyclic', tol=0.0001, warm_start=False).fit(X.drop(\"Unnamed: 0\", axis = 1), y)\n",
    "df = pd.DataFrame({'feature' : X.drop(\"Unnamed: 0\", axis = 1).columns, \"coefficient\" : model.coef_})\n",
    "ax = sns.barplot(x = \"coefficient\", y = \"feature\", data = df)\n",
    "plt.xticks(rotation = 90)\n",
    "print(df)"
   ]
  },
  {
   "cell_type": "markdown",
   "metadata": {},
   "source": [
    "As you can see the one advantage of the Lasso over ridge regression is that it performs variable selection"
   ]
  }
 ],
 "metadata": {
  "kernelspec": {
   "display_name": "Python 3",
   "language": "python",
   "name": "python3"
  },
  "language_info": {
   "codemirror_mode": {
    "name": "ipython",
    "version": 3
   },
   "file_extension": ".py",
   "mimetype": "text/x-python",
   "name": "python",
   "nbconvert_exporter": "python",
   "pygments_lexer": "ipython3",
   "version": "3.7.3"
  }
 },
 "nbformat": 4,
 "nbformat_minor": 2
}
